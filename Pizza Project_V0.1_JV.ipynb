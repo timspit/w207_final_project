{
 "cells": [
  {
   "cell_type": "markdown",
   "metadata": {},
   "source": [
    "# W207- Applied Machine Learning - Section 1\n",
    "\n",
    "## Title: Random Acts of Pizza\n",
    "\n",
    "## Team 2: Sartaj Singh Baveja, Tim Spittle, Jay Venkata & Angela Wu"
   ]
  },
  {
   "cell_type": "markdown",
   "metadata": {},
   "source": [
    "**Table of Contents**\n",
    "\n",
    "_To Do: Sub-sections to the table of contents_\n",
    "\n",
    "1. [Overview](#overview)\n",
    "2. [Data Preparation](#dataprep)  \n",
    "2.1 [Initial Loading](#loading)  \n",
    "2.2 [Data Cleaning](#datacleaning)\n",
    "3. [Exploratory Data Analysis](#eda)  \n",
    "3.1 [Features of Interest](#featinterest)  \n",
    "3.2 [Variable correlation plot](#corrplot)  \n",
    "3.3 [Request Time Variables](#time)  \n",
    "3.4 [Requester Profile Variables](#profile)  \n",
    "3.5 [Textual Features](#textual)  \n",
    "4. [Baseline Model](#baseline)\n",
    "5. [Feature Engineering](#featengg)\n",
    "6. Model Selection\n",
    "7. Error Analysis\n",
    "8. Conclusion"
   ]
  },
  {
   "cell_type": "markdown",
   "metadata": {},
   "source": [
    "<a id=\"overview\"></a>"
   ]
  },
  {
   "cell_type": "markdown",
   "metadata": {},
   "source": [
    "## 1. Overview\n",
    "\n",
    "This competition contains a dataset with textual requests for pizza from the Reddit community - Random Acts of Pizza (https://www.reddit.com/r/Random_Acts_Of_Pizza/) together with their outcome (successful/unsuccessful) and meta-data. \n",
    "\n",
    "The dataset includes 5671 requests collected from the Reddit community between December 8, 2010 and September 29, 2013 (retrieved on September 30, 2013). All requests ask for the same thing: a free pizza. The outcome of each request i.e whether its author received a pizza or not, is known. Meta-data includes information such as: time of the request, activity of the requester, community-age of the requester, etc.  \n",
    "\n",
    "**Outcome of Project**: By getting a sense of the dynamics and factors of a request that most likely would influence its success, the team hopes to build a model capable of predicting which requests will garner a cheesy (but sincere!) act of kindness and will result in a pizza purchase."
   ]
  },
  {
   "cell_type": "markdown",
   "metadata": {},
   "source": [
    "<a id=\"dataprep\"></a>"
   ]
  },
  {
   "cell_type": "markdown",
   "metadata": {},
   "source": [
    "## 2. Data Preparation"
   ]
  },
  {
   "cell_type": "code",
   "execution_count": 93,
   "metadata": {},
   "outputs": [
    {
     "name": "stdout",
     "output_type": "stream",
     "text": [
      "Requirement already satisfied: wordcloud in c:\\users\\manat\\anaconda3\\lib\\site-packages (1.5.0)\n",
      "Requirement already satisfied: numpy>=1.6.1 in c:\\users\\manat\\anaconda3\\lib\\site-packages (from wordcloud) (1.15.4)\n",
      "Requirement already satisfied: pillow in c:\\users\\manat\\anaconda3\\lib\\site-packages (from wordcloud) (5.2.0)\n"
     ]
    },
    {
     "name": "stderr",
     "output_type": "stream",
     "text": [
      "You are using pip version 18.1, however version 19.0.3 is available.\n",
      "You should consider upgrading via the 'python -m pip install --upgrade pip' command.\n"
     ]
    },
    {
     "name": "stdout",
     "output_type": "stream",
     "text": [
      "Requirement already satisfied: nltk in c:\\users\\manat\\anaconda3\\lib\\site-packages (3.3)\n",
      "Requirement already satisfied: six in c:\\users\\manat\\anaconda3\\lib\\site-packages (from nltk) (1.11.0)\n"
     ]
    },
    {
     "name": "stderr",
     "output_type": "stream",
     "text": [
      "You are using pip version 18.1, however version 19.0.3 is available.\n",
      "You should consider upgrading via the 'python -m pip install --upgrade pip' command.\n"
     ]
    },
    {
     "name": "stdout",
     "output_type": "stream",
     "text": [
      "Collecting xgboost\n",
      "  Downloading https://files.pythonhosted.org/packages/51/c1/198915b13e98b62a98f48309c41012638464651da755d941f4abe384c012/xgboost-0.82-py2.py3-none-win_amd64.whl (7.7MB)\n",
      "Requirement already satisfied: scipy in c:\\users\\manat\\appdata\\roaming\\python\\python36\\site-packages (from xgboost) (1.2.1)\n",
      "Requirement already satisfied: numpy in c:\\users\\manat\\anaconda3\\lib\\site-packages (from xgboost) (1.15.4)\n",
      "Installing collected packages: xgboost\n",
      "Successfully installed xgboost-0.82\n"
     ]
    },
    {
     "name": "stderr",
     "output_type": "stream",
     "text": [
      "You are using pip version 18.1, however version 19.0.3 is available.\n",
      "You should consider upgrading via the 'python -m pip install --upgrade pip' command.\n"
     ]
    }
   ],
   "source": [
    "import sys\n",
    "!{sys.executable} -m pip install wordcloud\n",
    "!{sys.executable} -m pip install nltk\n",
    "!{sys.executable} -m pip install xgboost"
   ]
  },
  {
   "cell_type": "code",
   "execution_count": 95,
   "metadata": {},
   "outputs": [
    {
     "name": "stdout",
     "output_type": "stream",
     "text": [
      "[nltk_data] Downloading package punkt to\n",
      "[nltk_data]     C:\\Users\\manat\\AppData\\Roaming\\nltk_data...\n",
      "[nltk_data]   Package punkt is already up-to-date!\n",
      "[nltk_data] Downloading package wordnet to\n",
      "[nltk_data]     C:\\Users\\manat\\AppData\\Roaming\\nltk_data...\n",
      "[nltk_data]   Package wordnet is already up-to-date!\n",
      "[nltk_data] Downloading package vader_lexicon to\n",
      "[nltk_data]     C:\\Users\\manat\\AppData\\Roaming\\nltk_data...\n",
      "[nltk_data]   Package vader_lexicon is already up-to-date!\n"
     ]
    }
   ],
   "source": [
    "# This tells matplotlib not to try opening a new window for each plot.\n",
    "%matplotlib inline\n",
    "\n",
    "# General libraries.\n",
    "import json\n",
    "import os\n",
    "from pprint import pprint\n",
    "import pandas as pd\n",
    "import re\n",
    "import numpy as np\n",
    "import matplotlib.pyplot as plt\n",
    "from matplotlib.colors import LogNorm\n",
    "import seaborn as sns\n",
    "\n",
    "# SK Learn Libraries\n",
    "from sklearn.model_selection import train_test_split\n",
    "from sklearn import metrics\n",
    "from sklearn.decomposition import PCA\n",
    "from sklearn.cluster import KMeans\n",
    "from sklearn.mixture import GaussianMixture\n",
    "from sklearn.feature_extraction.text import *\n",
    "\n",
    "#For Time & Datetime Functionality\n",
    "import time\n",
    "import datetime\n",
    "pd.options.mode.chained_assignment = None  # default='warn'\n",
    "\n",
    "### New packages\n",
    "import nltk\n",
    "nltk.download('punkt')\n",
    "nltk.download('wordnet')\n",
    "nltk.downloader.download('vader_lexicon')\n",
    "\n",
    "from nltk.sentiment import SentimentAnalyzer\n",
    "from nltk.sentiment.util import *\n",
    "from nltk.sentiment.vader import SentimentIntensityAnalyzer\n",
    "\n",
    "## Reference: https://gist.github.com/rspeare/77061e6e317896be29c6de9a85db301d\n",
    "from sklearn import linear_model\n",
    "import numpy as np\n",
    "import scipy.stats as stat\n",
    "\n",
    "# Naive Bayes with bag-of-words\n",
    "from sklearn.naive_bayes import MultinomialNB\n",
    "from sklearn.model_selection import GridSearchCV\n",
    "from sklearn.metrics import roc_auc_score\n",
    "from sklearn.metrics import confusion_matrix\n",
    "from sklearn.metrics import classification_report\n",
    "\n",
    "import xgboost as xgb"
   ]
  },
  {
   "cell_type": "markdown",
   "metadata": {},
   "source": [
    "Each entry in pizza_request_dataset.json corresponds to one request (the first and only request by the requester).\n",
    "\n",
    "### Fields in each request\n",
    "\n",
    "| Field Name | Description |\n",
    "| ---------- | ----------- |\n",
    "| giver_username_if_known | Reddit username of giver if known, i.e. the person satisfying the request (\"N/A\" otherwise). |\n",
    "| in_test_set | Boolean indicating whether this request was part of our test set. |\n",
    "| number_of_downvotes_of_request_at_retrieval | Number of downvotes at the time the request was collected. |\n",
    "| number_of_upvotes_of_request_at_retrieval | Number of upvotes at the time the request was collected. |\n",
    "| post_was_edited | Boolean indicating whether this post was edited (from Reddit). |\n",
    "| request_id | Identifier of the post on Reddit, e.g. \"t3_w5491\". |\n",
    "| request_number_of_comments_at_retrieval | Number of comments for the request at time of retrieval. |\n",
    "| request_text | Full text of the request. |\n",
    "| request_text_edit_aware | Edit aware version of \"request_text\". We use a set of rules to strip edited comments indicating the success of the request such as \"EDIT: Thanks /u/foo, the pizza was delicous\". |\n",
    "| request_title | Title of the request. |\n",
    "| requester_account_age_in_days_at_request | Account age of requester in days at time of request. |\n",
    "| requester_account_age_in_days_at_retrieval | Account age of requester in days at time of retrieval. |\n",
    "| requester_days_since_first_post_on_raop_at_request | Number of days between requesters first post on RAOP and this request (zero if requester has never posted before on RAOP). |\n",
    "| requester_days_since_first_post_on_raop_at_retrieval | Number of days between requesters first post on RAOP and time of retrieval. |\n",
    "| requester_number_of_comments_at_request | Total number of comments on Reddit by requester at time of request. |\n",
    "| requester_number_of_comments_at_retrieval | Total number of comments on Reddit by requester at time of retrieval. |\n",
    "| requester_number_of_comments_in_raop_at_request | Total number of comments in RAOP by requester at time of request. |\n",
    "| requester_number_of_comments_in_raop_at_retrieval | Total number of comments in RAOP by requester at time of retrieval. |\n",
    "| requester_number_of_posts_at_request | Total number of posts on Reddit by requester at time of request. |\n",
    "| requester_number_of_posts_at_retrieval | Total number of posts on Reddit by requester at time of retrieval. |\n",
    "| requester_number_of_posts_on_raop_at_request | Total number of posts in RAOP by requester at time of request. |\n",
    "| requester_number_of_posts_on_raop_at_retrieval | Total number of posts in RAOP by requester at time of retrieval. |\n",
    "| requester_number_of_subreddits_at_request | The number of subreddits in which the author had already posted in at the time of request. |\n",
    "| requester_received_pizza | Boolean indicating the success of the request, i.e., whether the requester received pizza. |\n",
    "| requester_subreddits_at_request | The list of subreddits in which the author had already posted in at the time of request. |\n",
    "| requester_upvotes_minus_downvotes_at_request | Difference of total upvotes and total downvotes of requester at time of request. |\n",
    "| requester_upvotes_minus_downvotes_at_retrieval | Difference of total upvotes and total downvotes of requester at time of retrieval. |\n",
    "| requester_upvotes_plus_downvotes_at_request | Sum of total upvotes and total downvotes of requester at time of request. |\n",
    "| requester_upvotes_plus_downvotes_at_retrieval | Sum of total upvotes and total downvotes of requester at time of retrieval. |\n",
    "| requester_user_flair | Users on RAOP receive badges (Reddit calls them flairs) which is a small picture next to their username. In our data set the user flair is either None (neither given nor received pizza, N=4282), \"shroom\" (received pizza, but not given, N=1306), or \"PIF\" (pizza given after having received, N=83). |\n",
    "| requester_username | Reddit username of requester. |\n",
    "| unix_timestamp_of_request | Unix timestamp of request (supposedly in timezone of user, but in most cases it is equal to the UTC timestamp -- which is incorrect since most RAOP users are from the USA). |\n",
    "| unix_timestamp_of_request_utc | Unit timestamp of request in UTC. |"
   ]
  },
  {
   "cell_type": "markdown",
   "metadata": {},
   "source": [
    "<a id=\"loading\"></a>"
   ]
  },
  {
   "cell_type": "markdown",
   "metadata": {},
   "source": [
    "### 2.1 Initial Loading"
   ]
  },
  {
   "cell_type": "code",
   "execution_count": 4,
   "metadata": {},
   "outputs": [],
   "source": [
    "## Load the training data in JSON\n",
    "#os.chdir(\"/Users/jayvenkata/Documents/W207- Applied Machine Learning/Projects/Group Project\")\n",
    "with open(os.path.join(os.getcwd(), 'train.json')) as org_train_data_file:    \n",
    "    org_train_data = json.load(org_train_data_file)\n",
    "\n",
    "## Load the test data in JSON\n",
    "with open(os.path.join(os.getcwd(), 'test.json')) as org_test_data_file:    \n",
    "    org_test_data = json.load(org_test_data_file)"
   ]
  },
  {
   "cell_type": "code",
   "execution_count": 5,
   "metadata": {},
   "outputs": [],
   "source": [
    "# Convert the training data in JSON to pandas dataframe\n",
    "org_train_df_raw = pd.io.json.json_normalize(org_train_data)\n",
    "org_train_df = pd.DataFrame.from_records(org_train_data)\n",
    "# org_train_df.head()"
   ]
  },
  {
   "cell_type": "markdown",
   "metadata": {},
   "source": [
    "Then, we split our data into training and development. Further, we make sure that both sets mirror the average success rate in our dataset of 24.6%"
   ]
  },
  {
   "cell_type": "code",
   "execution_count": 10,
   "metadata": {},
   "outputs": [
    {
     "name": "stdout",
     "output_type": "stream",
     "text": [
      "Sucess Rate (training data): 0.25\n",
      "Sucess Rate (dev data): 0.25\n"
     ]
    }
   ],
   "source": [
    "## Split the original training data into training and development\n",
    "np.random.seed(0)\n",
    "train_df, dev_df = train_test_split(org_train_df, test_size = 0.4, stratify=org_train_df['requester_received_pizza'])\n",
    "\n",
    "train_labels = train_df.requester_received_pizza.astype(int).values\n",
    "dev_labels = dev_df.requester_received_pizza.astype(int).values\n",
    "\n",
    "## Verify the stratefication works\n",
    "print(\"Sucess Rate (training data): \" + str(round(train_df[\"requester_received_pizza\"].mean(),2)))\n",
    "print(\"Sucess Rate (dev data): \" + str(round(dev_df[\"requester_received_pizza\"].mean(),2)))"
   ]
  },
  {
   "cell_type": "code",
   "execution_count": 7,
   "metadata": {},
   "outputs": [],
   "source": [
    "# Convert the test data in JSON to pandas dataframe\n",
    "test_df = pd.DataFrame.from_records(org_test_data)\n",
    "# test_df.head()"
   ]
  },
  {
   "cell_type": "code",
   "execution_count": 29,
   "metadata": {},
   "outputs": [
    {
     "data": {
      "text/html": [
       "<div>\n",
       "<style scoped>\n",
       "    .dataframe tbody tr th:only-of-type {\n",
       "        vertical-align: middle;\n",
       "    }\n",
       "\n",
       "    .dataframe tbody tr th {\n",
       "        vertical-align: top;\n",
       "    }\n",
       "\n",
       "    .dataframe thead th {\n",
       "        text-align: right;\n",
       "    }\n",
       "</style>\n",
       "<table border=\"1\" class=\"dataframe\">\n",
       "  <thead>\n",
       "    <tr style=\"text-align: right;\">\n",
       "      <th></th>\n",
       "      <th>Variable</th>\n",
       "      <th>Train</th>\n",
       "      <th>Test</th>\n",
       "    </tr>\n",
       "  </thead>\n",
       "  <tbody>\n",
       "    <tr>\n",
       "      <th>10</th>\n",
       "      <td>requester_account_age_in_days_at_retrieval</td>\n",
       "      <td>True</td>\n",
       "      <td>False</td>\n",
       "    </tr>\n",
       "    <tr>\n",
       "      <th>18</th>\n",
       "      <td>requester_number_of_posts_at_retrieval</td>\n",
       "      <td>True</td>\n",
       "      <td>False</td>\n",
       "    </tr>\n",
       "    <tr>\n",
       "      <th>22</th>\n",
       "      <td>requester_received_pizza</td>\n",
       "      <td>True</td>\n",
       "      <td>False</td>\n",
       "    </tr>\n",
       "    <tr>\n",
       "      <th>16</th>\n",
       "      <td>requester_number_of_comments_in_raop_at_retrieval</td>\n",
       "      <td>True</td>\n",
       "      <td>False</td>\n",
       "    </tr>\n",
       "    <tr>\n",
       "      <th>14</th>\n",
       "      <td>requester_number_of_comments_at_retrieval</td>\n",
       "      <td>True</td>\n",
       "      <td>False</td>\n",
       "    </tr>\n",
       "    <tr>\n",
       "      <th>12</th>\n",
       "      <td>requester_days_since_first_post_on_raop_at_ret...</td>\n",
       "      <td>True</td>\n",
       "      <td>False</td>\n",
       "    </tr>\n",
       "    <tr>\n",
       "      <th>25</th>\n",
       "      <td>requester_upvotes_minus_downvotes_at_retrieval</td>\n",
       "      <td>True</td>\n",
       "      <td>False</td>\n",
       "    </tr>\n",
       "    <tr>\n",
       "      <th>27</th>\n",
       "      <td>requester_upvotes_plus_downvotes_at_retrieval</td>\n",
       "      <td>True</td>\n",
       "      <td>False</td>\n",
       "    </tr>\n",
       "    <tr>\n",
       "      <th>20</th>\n",
       "      <td>requester_number_of_posts_on_raop_at_retrieval</td>\n",
       "      <td>True</td>\n",
       "      <td>False</td>\n",
       "    </tr>\n",
       "    <tr>\n",
       "      <th>6</th>\n",
       "      <td>request_text</td>\n",
       "      <td>True</td>\n",
       "      <td>False</td>\n",
       "    </tr>\n",
       "    <tr>\n",
       "      <th>5</th>\n",
       "      <td>request_number_of_comments_at_retrieval</td>\n",
       "      <td>True</td>\n",
       "      <td>False</td>\n",
       "    </tr>\n",
       "    <tr>\n",
       "      <th>3</th>\n",
       "      <td>post_was_edited</td>\n",
       "      <td>True</td>\n",
       "      <td>False</td>\n",
       "    </tr>\n",
       "    <tr>\n",
       "      <th>2</th>\n",
       "      <td>number_of_upvotes_of_request_at_retrieval</td>\n",
       "      <td>True</td>\n",
       "      <td>False</td>\n",
       "    </tr>\n",
       "    <tr>\n",
       "      <th>1</th>\n",
       "      <td>number_of_downvotes_of_request_at_retrieval</td>\n",
       "      <td>True</td>\n",
       "      <td>False</td>\n",
       "    </tr>\n",
       "    <tr>\n",
       "      <th>28</th>\n",
       "      <td>requester_user_flair</td>\n",
       "      <td>True</td>\n",
       "      <td>False</td>\n",
       "    </tr>\n",
       "    <tr>\n",
       "      <th>26</th>\n",
       "      <td>requester_upvotes_plus_downvotes_at_request</td>\n",
       "      <td>True</td>\n",
       "      <td>True</td>\n",
       "    </tr>\n",
       "    <tr>\n",
       "      <th>21</th>\n",
       "      <td>requester_number_of_subreddits_at_request</td>\n",
       "      <td>True</td>\n",
       "      <td>True</td>\n",
       "    </tr>\n",
       "    <tr>\n",
       "      <th>24</th>\n",
       "      <td>requester_upvotes_minus_downvotes_at_request</td>\n",
       "      <td>True</td>\n",
       "      <td>True</td>\n",
       "    </tr>\n",
       "    <tr>\n",
       "      <th>29</th>\n",
       "      <td>requester_username</td>\n",
       "      <td>True</td>\n",
       "      <td>True</td>\n",
       "    </tr>\n",
       "    <tr>\n",
       "      <th>23</th>\n",
       "      <td>requester_subreddits_at_request</td>\n",
       "      <td>True</td>\n",
       "      <td>True</td>\n",
       "    </tr>\n",
       "    <tr>\n",
       "      <th>0</th>\n",
       "      <td>giver_username_if_known</td>\n",
       "      <td>True</td>\n",
       "      <td>True</td>\n",
       "    </tr>\n",
       "    <tr>\n",
       "      <th>15</th>\n",
       "      <td>requester_number_of_comments_in_raop_at_request</td>\n",
       "      <td>True</td>\n",
       "      <td>True</td>\n",
       "    </tr>\n",
       "    <tr>\n",
       "      <th>17</th>\n",
       "      <td>requester_number_of_posts_at_request</td>\n",
       "      <td>True</td>\n",
       "      <td>True</td>\n",
       "    </tr>\n",
       "    <tr>\n",
       "      <th>30</th>\n",
       "      <td>unix_timestamp_of_request</td>\n",
       "      <td>True</td>\n",
       "      <td>True</td>\n",
       "    </tr>\n",
       "    <tr>\n",
       "      <th>13</th>\n",
       "      <td>requester_number_of_comments_at_request</td>\n",
       "      <td>True</td>\n",
       "      <td>True</td>\n",
       "    </tr>\n",
       "    <tr>\n",
       "      <th>11</th>\n",
       "      <td>requester_days_since_first_post_on_raop_at_req...</td>\n",
       "      <td>True</td>\n",
       "      <td>True</td>\n",
       "    </tr>\n",
       "    <tr>\n",
       "      <th>9</th>\n",
       "      <td>requester_account_age_in_days_at_request</td>\n",
       "      <td>True</td>\n",
       "      <td>True</td>\n",
       "    </tr>\n",
       "    <tr>\n",
       "      <th>8</th>\n",
       "      <td>request_title</td>\n",
       "      <td>True</td>\n",
       "      <td>True</td>\n",
       "    </tr>\n",
       "    <tr>\n",
       "      <th>7</th>\n",
       "      <td>request_text_edit_aware</td>\n",
       "      <td>True</td>\n",
       "      <td>True</td>\n",
       "    </tr>\n",
       "    <tr>\n",
       "      <th>4</th>\n",
       "      <td>request_id</td>\n",
       "      <td>True</td>\n",
       "      <td>True</td>\n",
       "    </tr>\n",
       "    <tr>\n",
       "      <th>19</th>\n",
       "      <td>requester_number_of_posts_on_raop_at_request</td>\n",
       "      <td>True</td>\n",
       "      <td>True</td>\n",
       "    </tr>\n",
       "    <tr>\n",
       "      <th>31</th>\n",
       "      <td>unix_timestamp_of_request_utc</td>\n",
       "      <td>True</td>\n",
       "      <td>True</td>\n",
       "    </tr>\n",
       "  </tbody>\n",
       "</table>\n",
       "</div>"
      ],
      "text/plain": [
       "                                             Variable  Train   Test\n",
       "10         requester_account_age_in_days_at_retrieval   True  False\n",
       "18             requester_number_of_posts_at_retrieval   True  False\n",
       "22                           requester_received_pizza   True  False\n",
       "16  requester_number_of_comments_in_raop_at_retrieval   True  False\n",
       "14          requester_number_of_comments_at_retrieval   True  False\n",
       "12  requester_days_since_first_post_on_raop_at_ret...   True  False\n",
       "25     requester_upvotes_minus_downvotes_at_retrieval   True  False\n",
       "27      requester_upvotes_plus_downvotes_at_retrieval   True  False\n",
       "20     requester_number_of_posts_on_raop_at_retrieval   True  False\n",
       "6                                        request_text   True  False\n",
       "5             request_number_of_comments_at_retrieval   True  False\n",
       "3                                     post_was_edited   True  False\n",
       "2           number_of_upvotes_of_request_at_retrieval   True  False\n",
       "1         number_of_downvotes_of_request_at_retrieval   True  False\n",
       "28                               requester_user_flair   True  False\n",
       "26        requester_upvotes_plus_downvotes_at_request   True   True\n",
       "21          requester_number_of_subreddits_at_request   True   True\n",
       "24       requester_upvotes_minus_downvotes_at_request   True   True\n",
       "29                                 requester_username   True   True\n",
       "23                    requester_subreddits_at_request   True   True\n",
       "0                             giver_username_if_known   True   True\n",
       "15    requester_number_of_comments_in_raop_at_request   True   True\n",
       "17               requester_number_of_posts_at_request   True   True\n",
       "30                          unix_timestamp_of_request   True   True\n",
       "13            requester_number_of_comments_at_request   True   True\n",
       "11  requester_days_since_first_post_on_raop_at_req...   True   True\n",
       "9            requester_account_age_in_days_at_request   True   True\n",
       "8                                       request_title   True   True\n",
       "7                             request_text_edit_aware   True   True\n",
       "4                                          request_id   True   True\n",
       "19       requester_number_of_posts_on_raop_at_request   True   True\n",
       "31                      unix_timestamp_of_request_utc   True   True"
      ]
     },
     "execution_count": 29,
     "metadata": {},
     "output_type": "execute_result"
    }
   ],
   "source": [
    "train_columns = list(train_df.columns.values)\n",
    "test_columns = list(test_df.columns.values)\n",
    "\n",
    "var_table_overlap = pd.DataFrame(columns = ['Variable', 'Train', 'Test'])\n",
    "train_var_series = pd.Series(train_columns, name='Variable')\n",
    "test_var_series = train_var_series.isin(test_columns)\n",
    "var_table_overlap['Variable'] = train_columns\n",
    "var_table_overlap['Train'] = True\n",
    "var_table_overlap['Test'] = test_var_series\n",
    "var_table_overlap.sort_values(by = ['Test'])"
   ]
  },
  {
   "cell_type": "markdown",
   "metadata": {},
   "source": [
    "From the above, we will focus only on the columns that are present in both the datasets and disregard the others. This is because\n",
    "- *_at_retrieval doesn't relate to the concept of real-time as much as *_at_request variables do\n",
    "- user_flair not required since this is after / we have received_pizza variable\n",
    "- post_was_edited / request_text - better variable is the request_text_edit_aware since it captures the text even when a post is edited\n",
    "- requester_received_pizza - that's the variable that needs to be predicted"
   ]
  },
  {
   "cell_type": "code",
   "execution_count": 30,
   "metadata": {},
   "outputs": [
    {
     "data": {
      "text/html": [
       "<div>\n",
       "<style scoped>\n",
       "    .dataframe tbody tr th:only-of-type {\n",
       "        vertical-align: middle;\n",
       "    }\n",
       "\n",
       "    .dataframe tbody tr th {\n",
       "        vertical-align: top;\n",
       "    }\n",
       "\n",
       "    .dataframe thead th {\n",
       "        text-align: right;\n",
       "    }\n",
       "</style>\n",
       "<table border=\"1\" class=\"dataframe\">\n",
       "  <thead>\n",
       "    <tr style=\"text-align: right;\">\n",
       "      <th></th>\n",
       "      <th>number_of_downvotes_of_request_at_retrieval</th>\n",
       "      <th>number_of_upvotes_of_request_at_retrieval</th>\n",
       "      <th>request_number_of_comments_at_retrieval</th>\n",
       "      <th>requester_account_age_in_days_at_request</th>\n",
       "      <th>requester_account_age_in_days_at_retrieval</th>\n",
       "      <th>requester_days_since_first_post_on_raop_at_request</th>\n",
       "      <th>requester_days_since_first_post_on_raop_at_retrieval</th>\n",
       "      <th>requester_number_of_comments_at_request</th>\n",
       "      <th>requester_number_of_comments_at_retrieval</th>\n",
       "      <th>requester_number_of_comments_in_raop_at_request</th>\n",
       "      <th>...</th>\n",
       "      <th>requester_number_of_posts_at_retrieval</th>\n",
       "      <th>requester_number_of_posts_on_raop_at_request</th>\n",
       "      <th>requester_number_of_posts_on_raop_at_retrieval</th>\n",
       "      <th>requester_number_of_subreddits_at_request</th>\n",
       "      <th>requester_upvotes_minus_downvotes_at_request</th>\n",
       "      <th>requester_upvotes_minus_downvotes_at_retrieval</th>\n",
       "      <th>requester_upvotes_plus_downvotes_at_request</th>\n",
       "      <th>requester_upvotes_plus_downvotes_at_retrieval</th>\n",
       "      <th>unix_timestamp_of_request</th>\n",
       "      <th>unix_timestamp_of_request_utc</th>\n",
       "    </tr>\n",
       "  </thead>\n",
       "  <tbody>\n",
       "    <tr>\n",
       "      <th>count</th>\n",
       "      <td>2424.000000</td>\n",
       "      <td>2424.000000</td>\n",
       "      <td>2424.000000</td>\n",
       "      <td>2424.000000</td>\n",
       "      <td>2424.000000</td>\n",
       "      <td>2424.000000</td>\n",
       "      <td>2424.000000</td>\n",
       "      <td>2424.000000</td>\n",
       "      <td>2424.000000</td>\n",
       "      <td>2424.000000</td>\n",
       "      <td>...</td>\n",
       "      <td>2424.000000</td>\n",
       "      <td>2424.000000</td>\n",
       "      <td>2424.000000</td>\n",
       "      <td>2424.000000</td>\n",
       "      <td>2424.000000</td>\n",
       "      <td>2424.000000</td>\n",
       "      <td>2424.000000</td>\n",
       "      <td>2424.000000</td>\n",
       "      <td>2.424000e+03</td>\n",
       "      <td>2.424000e+03</td>\n",
       "    </tr>\n",
       "    <tr>\n",
       "      <th>mean</th>\n",
       "      <td>2.490924</td>\n",
       "      <td>6.243399</td>\n",
       "      <td>2.852310</td>\n",
       "      <td>257.076562</td>\n",
       "      <td>761.135408</td>\n",
       "      <td>15.854911</td>\n",
       "      <td>519.375076</td>\n",
       "      <td>117.129538</td>\n",
       "      <td>289.739274</td>\n",
       "      <td>0.609323</td>\n",
       "      <td>...</td>\n",
       "      <td>40.856848</td>\n",
       "      <td>0.060231</td>\n",
       "      <td>1.224422</td>\n",
       "      <td>18.267739</td>\n",
       "      <td>1134.673267</td>\n",
       "      <td>2684.942244</td>\n",
       "      <td>3534.171617</td>\n",
       "      <td>7481.891089</td>\n",
       "      <td>1.342733e+09</td>\n",
       "      <td>1.342729e+09</td>\n",
       "    </tr>\n",
       "    <tr>\n",
       "      <th>std</th>\n",
       "      <td>3.159131</td>\n",
       "      <td>10.324260</td>\n",
       "      <td>4.519556</td>\n",
       "      <td>308.291897</td>\n",
       "      <td>334.844271</td>\n",
       "      <td>68.349921</td>\n",
       "      <td>266.825980</td>\n",
       "      <td>197.255766</td>\n",
       "      <td>359.259651</td>\n",
       "      <td>3.373627</td>\n",
       "      <td>...</td>\n",
       "      <td>81.979290</td>\n",
       "      <td>0.328333</td>\n",
       "      <td>0.576724</td>\n",
       "      <td>22.037967</td>\n",
       "      <td>2870.852260</td>\n",
       "      <td>5265.463552</td>\n",
       "      <td>18798.464623</td>\n",
       "      <td>25363.399331</td>\n",
       "      <td>2.323524e+07</td>\n",
       "      <td>2.323456e+07</td>\n",
       "    </tr>\n",
       "    <tr>\n",
       "      <th>min</th>\n",
       "      <td>0.000000</td>\n",
       "      <td>0.000000</td>\n",
       "      <td>0.000000</td>\n",
       "      <td>0.000000</td>\n",
       "      <td>45.291562</td>\n",
       "      <td>0.000000</td>\n",
       "      <td>0.000000</td>\n",
       "      <td>0.000000</td>\n",
       "      <td>0.000000</td>\n",
       "      <td>0.000000</td>\n",
       "      <td>...</td>\n",
       "      <td>0.000000</td>\n",
       "      <td>0.000000</td>\n",
       "      <td>0.000000</td>\n",
       "      <td>0.000000</td>\n",
       "      <td>-173.000000</td>\n",
       "      <td>-173.000000</td>\n",
       "      <td>0.000000</td>\n",
       "      <td>0.000000</td>\n",
       "      <td>1.297723e+09</td>\n",
       "      <td>1.297723e+09</td>\n",
       "    </tr>\n",
       "    <tr>\n",
       "      <th>25%</th>\n",
       "      <td>1.000000</td>\n",
       "      <td>2.000000</td>\n",
       "      <td>0.000000</td>\n",
       "      <td>2.893015</td>\n",
       "      <td>524.856794</td>\n",
       "      <td>0.000000</td>\n",
       "      <td>280.503828</td>\n",
       "      <td>0.000000</td>\n",
       "      <td>7.000000</td>\n",
       "      <td>0.000000</td>\n",
       "      <td>...</td>\n",
       "      <td>2.000000</td>\n",
       "      <td>0.000000</td>\n",
       "      <td>1.000000</td>\n",
       "      <td>1.000000</td>\n",
       "      <td>3.000000</td>\n",
       "      <td>22.000000</td>\n",
       "      <td>8.000000</td>\n",
       "      <td>50.000000</td>\n",
       "      <td>1.320282e+09</td>\n",
       "      <td>1.320279e+09</td>\n",
       "    </tr>\n",
       "    <tr>\n",
       "      <th>50%</th>\n",
       "      <td>2.000000</td>\n",
       "      <td>4.000000</td>\n",
       "      <td>1.000000</td>\n",
       "      <td>158.299797</td>\n",
       "      <td>754.348223</td>\n",
       "      <td>0.000000</td>\n",
       "      <td>522.899485</td>\n",
       "      <td>24.000000</td>\n",
       "      <td>112.500000</td>\n",
       "      <td>0.000000</td>\n",
       "      <td>...</td>\n",
       "      <td>13.000000</td>\n",
       "      <td>0.000000</td>\n",
       "      <td>1.000000</td>\n",
       "      <td>11.000000</td>\n",
       "      <td>174.500000</td>\n",
       "      <td>699.000000</td>\n",
       "      <td>361.000000</td>\n",
       "      <td>1269.500000</td>\n",
       "      <td>1.342686e+09</td>\n",
       "      <td>1.342682e+09</td>\n",
       "    </tr>\n",
       "    <tr>\n",
       "      <th>75%</th>\n",
       "      <td>3.000000</td>\n",
       "      <td>7.000000</td>\n",
       "      <td>4.000000</td>\n",
       "      <td>388.884178</td>\n",
       "      <td>902.263547</td>\n",
       "      <td>0.000000</td>\n",
       "      <td>776.226670</td>\n",
       "      <td>142.000000</td>\n",
       "      <td>475.000000</td>\n",
       "      <td>0.000000</td>\n",
       "      <td>...</td>\n",
       "      <td>46.000000</td>\n",
       "      <td>0.000000</td>\n",
       "      <td>1.000000</td>\n",
       "      <td>27.000000</td>\n",
       "      <td>1167.000000</td>\n",
       "      <td>3305.250000</td>\n",
       "      <td>2307.750000</td>\n",
       "      <td>6921.750000</td>\n",
       "      <td>1.364291e+09</td>\n",
       "      <td>1.364288e+09</td>\n",
       "    </tr>\n",
       "    <tr>\n",
       "      <th>max</th>\n",
       "      <td>47.000000</td>\n",
       "      <td>276.000000</td>\n",
       "      <td>61.000000</td>\n",
       "      <td>2809.750787</td>\n",
       "      <td>2879.276319</td>\n",
       "      <td>739.771007</td>\n",
       "      <td>1025.407593</td>\n",
       "      <td>994.000000</td>\n",
       "      <td>1000.000000</td>\n",
       "      <td>88.000000</td>\n",
       "      <td>...</td>\n",
       "      <td>999.000000</td>\n",
       "      <td>5.000000</td>\n",
       "      <td>6.000000</td>\n",
       "      <td>162.000000</td>\n",
       "      <td>87911.000000</td>\n",
       "      <td>108977.000000</td>\n",
       "      <td>789287.000000</td>\n",
       "      <td>883299.000000</td>\n",
       "      <td>1.381373e+09</td>\n",
       "      <td>1.381345e+09</td>\n",
       "    </tr>\n",
       "  </tbody>\n",
       "</table>\n",
       "<p>8 rows × 22 columns</p>\n",
       "</div>"
      ],
      "text/plain": [
       "       number_of_downvotes_of_request_at_retrieval  \\\n",
       "count                                  2424.000000   \n",
       "mean                                      2.490924   \n",
       "std                                       3.159131   \n",
       "min                                       0.000000   \n",
       "25%                                       1.000000   \n",
       "50%                                       2.000000   \n",
       "75%                                       3.000000   \n",
       "max                                      47.000000   \n",
       "\n",
       "       number_of_upvotes_of_request_at_retrieval  \\\n",
       "count                                2424.000000   \n",
       "mean                                    6.243399   \n",
       "std                                    10.324260   \n",
       "min                                     0.000000   \n",
       "25%                                     2.000000   \n",
       "50%                                     4.000000   \n",
       "75%                                     7.000000   \n",
       "max                                   276.000000   \n",
       "\n",
       "       request_number_of_comments_at_retrieval  \\\n",
       "count                              2424.000000   \n",
       "mean                                  2.852310   \n",
       "std                                   4.519556   \n",
       "min                                   0.000000   \n",
       "25%                                   0.000000   \n",
       "50%                                   1.000000   \n",
       "75%                                   4.000000   \n",
       "max                                  61.000000   \n",
       "\n",
       "       requester_account_age_in_days_at_request  \\\n",
       "count                               2424.000000   \n",
       "mean                                 257.076562   \n",
       "std                                  308.291897   \n",
       "min                                    0.000000   \n",
       "25%                                    2.893015   \n",
       "50%                                  158.299797   \n",
       "75%                                  388.884178   \n",
       "max                                 2809.750787   \n",
       "\n",
       "       requester_account_age_in_days_at_retrieval  \\\n",
       "count                                 2424.000000   \n",
       "mean                                   761.135408   \n",
       "std                                    334.844271   \n",
       "min                                     45.291562   \n",
       "25%                                    524.856794   \n",
       "50%                                    754.348223   \n",
       "75%                                    902.263547   \n",
       "max                                   2879.276319   \n",
       "\n",
       "       requester_days_since_first_post_on_raop_at_request  \\\n",
       "count                                        2424.000000    \n",
       "mean                                           15.854911    \n",
       "std                                            68.349921    \n",
       "min                                             0.000000    \n",
       "25%                                             0.000000    \n",
       "50%                                             0.000000    \n",
       "75%                                             0.000000    \n",
       "max                                           739.771007    \n",
       "\n",
       "       requester_days_since_first_post_on_raop_at_retrieval  \\\n",
       "count                                        2424.000000      \n",
       "mean                                          519.375076      \n",
       "std                                           266.825980      \n",
       "min                                             0.000000      \n",
       "25%                                           280.503828      \n",
       "50%                                           522.899485      \n",
       "75%                                           776.226670      \n",
       "max                                          1025.407593      \n",
       "\n",
       "       requester_number_of_comments_at_request  \\\n",
       "count                              2424.000000   \n",
       "mean                                117.129538   \n",
       "std                                 197.255766   \n",
       "min                                   0.000000   \n",
       "25%                                   0.000000   \n",
       "50%                                  24.000000   \n",
       "75%                                 142.000000   \n",
       "max                                 994.000000   \n",
       "\n",
       "       requester_number_of_comments_at_retrieval  \\\n",
       "count                                2424.000000   \n",
       "mean                                  289.739274   \n",
       "std                                   359.259651   \n",
       "min                                     0.000000   \n",
       "25%                                     7.000000   \n",
       "50%                                   112.500000   \n",
       "75%                                   475.000000   \n",
       "max                                  1000.000000   \n",
       "\n",
       "       requester_number_of_comments_in_raop_at_request  \\\n",
       "count                                      2424.000000   \n",
       "mean                                          0.609323   \n",
       "std                                           3.373627   \n",
       "min                                           0.000000   \n",
       "25%                                           0.000000   \n",
       "50%                                           0.000000   \n",
       "75%                                           0.000000   \n",
       "max                                          88.000000   \n",
       "\n",
       "                   ...                requester_number_of_posts_at_retrieval  \\\n",
       "count              ...                                           2424.000000   \n",
       "mean               ...                                             40.856848   \n",
       "std                ...                                             81.979290   \n",
       "min                ...                                              0.000000   \n",
       "25%                ...                                              2.000000   \n",
       "50%                ...                                             13.000000   \n",
       "75%                ...                                             46.000000   \n",
       "max                ...                                            999.000000   \n",
       "\n",
       "       requester_number_of_posts_on_raop_at_request  \\\n",
       "count                                   2424.000000   \n",
       "mean                                       0.060231   \n",
       "std                                        0.328333   \n",
       "min                                        0.000000   \n",
       "25%                                        0.000000   \n",
       "50%                                        0.000000   \n",
       "75%                                        0.000000   \n",
       "max                                        5.000000   \n",
       "\n",
       "       requester_number_of_posts_on_raop_at_retrieval  \\\n",
       "count                                     2424.000000   \n",
       "mean                                         1.224422   \n",
       "std                                          0.576724   \n",
       "min                                          0.000000   \n",
       "25%                                          1.000000   \n",
       "50%                                          1.000000   \n",
       "75%                                          1.000000   \n",
       "max                                          6.000000   \n",
       "\n",
       "       requester_number_of_subreddits_at_request  \\\n",
       "count                                2424.000000   \n",
       "mean                                   18.267739   \n",
       "std                                    22.037967   \n",
       "min                                     0.000000   \n",
       "25%                                     1.000000   \n",
       "50%                                    11.000000   \n",
       "75%                                    27.000000   \n",
       "max                                   162.000000   \n",
       "\n",
       "       requester_upvotes_minus_downvotes_at_request  \\\n",
       "count                                   2424.000000   \n",
       "mean                                    1134.673267   \n",
       "std                                     2870.852260   \n",
       "min                                     -173.000000   \n",
       "25%                                        3.000000   \n",
       "50%                                      174.500000   \n",
       "75%                                     1167.000000   \n",
       "max                                    87911.000000   \n",
       "\n",
       "       requester_upvotes_minus_downvotes_at_retrieval  \\\n",
       "count                                     2424.000000   \n",
       "mean                                      2684.942244   \n",
       "std                                       5265.463552   \n",
       "min                                       -173.000000   \n",
       "25%                                         22.000000   \n",
       "50%                                        699.000000   \n",
       "75%                                       3305.250000   \n",
       "max                                     108977.000000   \n",
       "\n",
       "       requester_upvotes_plus_downvotes_at_request  \\\n",
       "count                                  2424.000000   \n",
       "mean                                   3534.171617   \n",
       "std                                   18798.464623   \n",
       "min                                       0.000000   \n",
       "25%                                       8.000000   \n",
       "50%                                     361.000000   \n",
       "75%                                    2307.750000   \n",
       "max                                  789287.000000   \n",
       "\n",
       "       requester_upvotes_plus_downvotes_at_retrieval  \\\n",
       "count                                    2424.000000   \n",
       "mean                                     7481.891089   \n",
       "std                                     25363.399331   \n",
       "min                                         0.000000   \n",
       "25%                                        50.000000   \n",
       "50%                                      1269.500000   \n",
       "75%                                      6921.750000   \n",
       "max                                    883299.000000   \n",
       "\n",
       "       unix_timestamp_of_request  unix_timestamp_of_request_utc  \n",
       "count               2.424000e+03                   2.424000e+03  \n",
       "mean                1.342733e+09                   1.342729e+09  \n",
       "std                 2.323524e+07                   2.323456e+07  \n",
       "min                 1.297723e+09                   1.297723e+09  \n",
       "25%                 1.320282e+09                   1.320279e+09  \n",
       "50%                 1.342686e+09                   1.342682e+09  \n",
       "75%                 1.364291e+09                   1.364288e+09  \n",
       "max                 1.381373e+09                   1.381345e+09  \n",
       "\n",
       "[8 rows x 22 columns]"
      ]
     },
     "execution_count": 30,
     "metadata": {},
     "output_type": "execute_result"
    }
   ],
   "source": [
    "# Summary of the training data\n",
    "train_df.describe()"
   ]
  },
  {
   "cell_type": "code",
   "execution_count": 31,
   "metadata": {},
   "outputs": [
    {
     "data": {
      "text/html": [
       "<div>\n",
       "<style scoped>\n",
       "    .dataframe tbody tr th:only-of-type {\n",
       "        vertical-align: middle;\n",
       "    }\n",
       "\n",
       "    .dataframe tbody tr th {\n",
       "        vertical-align: top;\n",
       "    }\n",
       "\n",
       "    .dataframe thead th {\n",
       "        text-align: right;\n",
       "    }\n",
       "</style>\n",
       "<table border=\"1\" class=\"dataframe\">\n",
       "  <thead>\n",
       "    <tr style=\"text-align: right;\">\n",
       "      <th></th>\n",
       "      <th>number_of_downvotes_of_request_at_retrieval</th>\n",
       "      <th>number_of_upvotes_of_request_at_retrieval</th>\n",
       "      <th>request_number_of_comments_at_retrieval</th>\n",
       "      <th>requester_account_age_in_days_at_request</th>\n",
       "      <th>requester_account_age_in_days_at_retrieval</th>\n",
       "      <th>requester_days_since_first_post_on_raop_at_request</th>\n",
       "      <th>requester_days_since_first_post_on_raop_at_retrieval</th>\n",
       "      <th>requester_number_of_comments_at_request</th>\n",
       "      <th>requester_number_of_comments_at_retrieval</th>\n",
       "      <th>requester_number_of_comments_in_raop_at_request</th>\n",
       "      <th>...</th>\n",
       "      <th>requester_number_of_posts_at_retrieval</th>\n",
       "      <th>requester_number_of_posts_on_raop_at_request</th>\n",
       "      <th>requester_number_of_posts_on_raop_at_retrieval</th>\n",
       "      <th>requester_number_of_subreddits_at_request</th>\n",
       "      <th>requester_upvotes_minus_downvotes_at_request</th>\n",
       "      <th>requester_upvotes_minus_downvotes_at_retrieval</th>\n",
       "      <th>requester_upvotes_plus_downvotes_at_request</th>\n",
       "      <th>requester_upvotes_plus_downvotes_at_retrieval</th>\n",
       "      <th>unix_timestamp_of_request</th>\n",
       "      <th>unix_timestamp_of_request_utc</th>\n",
       "    </tr>\n",
       "  </thead>\n",
       "  <tbody>\n",
       "    <tr>\n",
       "      <th>count</th>\n",
       "      <td>1616.000000</td>\n",
       "      <td>1616.000000</td>\n",
       "      <td>1616.000000</td>\n",
       "      <td>1616.000000</td>\n",
       "      <td>1616.000000</td>\n",
       "      <td>1616.000000</td>\n",
       "      <td>1616.000000</td>\n",
       "      <td>1616.000000</td>\n",
       "      <td>1616.000000</td>\n",
       "      <td>1616.000000</td>\n",
       "      <td>...</td>\n",
       "      <td>1616.000000</td>\n",
       "      <td>1616.000000</td>\n",
       "      <td>1616.000000</td>\n",
       "      <td>1616.000000</td>\n",
       "      <td>1616.000000</td>\n",
       "      <td>1616.000000</td>\n",
       "      <td>1.616000e+03</td>\n",
       "      <td>1.616000e+03</td>\n",
       "      <td>1.616000e+03</td>\n",
       "      <td>1.616000e+03</td>\n",
       "    </tr>\n",
       "    <tr>\n",
       "      <th>mean</th>\n",
       "      <td>2.324876</td>\n",
       "      <td>6.086015</td>\n",
       "      <td>2.899134</td>\n",
       "      <td>250.851605</td>\n",
       "      <td>752.528689</td>\n",
       "      <td>17.260219</td>\n",
       "      <td>518.420399</td>\n",
       "      <td>112.051361</td>\n",
       "      <td>288.955446</td>\n",
       "      <td>0.698639</td>\n",
       "      <td>...</td>\n",
       "      <td>41.594059</td>\n",
       "      <td>0.068688</td>\n",
       "      <td>1.261139</td>\n",
       "      <td>17.790223</td>\n",
       "      <td>1198.189975</td>\n",
       "      <td>2773.441832</td>\n",
       "      <td>4.056832e+03</td>\n",
       "      <td>8.247335e+03</td>\n",
       "      <td>1.342974e+09</td>\n",
       "      <td>1.342971e+09</td>\n",
       "    </tr>\n",
       "    <tr>\n",
       "      <th>std</th>\n",
       "      <td>2.804733</td>\n",
       "      <td>11.352638</td>\n",
       "      <td>5.014811</td>\n",
       "      <td>295.647286</td>\n",
       "      <td>330.340418</td>\n",
       "      <td>73.983087</td>\n",
       "      <td>269.516709</td>\n",
       "      <td>187.277828</td>\n",
       "      <td>354.743297</td>\n",
       "      <td>3.473583</td>\n",
       "      <td>...</td>\n",
       "      <td>79.017479</td>\n",
       "      <td>0.321929</td>\n",
       "      <td>0.640143</td>\n",
       "      <td>21.279765</td>\n",
       "      <td>4712.831861</td>\n",
       "      <td>7519.415498</td>\n",
       "      <td>3.375351e+04</td>\n",
       "      <td>5.358297e+04</td>\n",
       "      <td>2.347930e+07</td>\n",
       "      <td>2.347862e+07</td>\n",
       "    </tr>\n",
       "    <tr>\n",
       "      <th>min</th>\n",
       "      <td>0.000000</td>\n",
       "      <td>0.000000</td>\n",
       "      <td>0.000000</td>\n",
       "      <td>0.000000</td>\n",
       "      <td>75.817535</td>\n",
       "      <td>0.000000</td>\n",
       "      <td>0.000000</td>\n",
       "      <td>0.000000</td>\n",
       "      <td>0.000000</td>\n",
       "      <td>0.000000</td>\n",
       "      <td>...</td>\n",
       "      <td>0.000000</td>\n",
       "      <td>0.000000</td>\n",
       "      <td>0.000000</td>\n",
       "      <td>0.000000</td>\n",
       "      <td>-39.000000</td>\n",
       "      <td>-16.000000</td>\n",
       "      <td>0.000000e+00</td>\n",
       "      <td>1.000000e+00</td>\n",
       "      <td>1.306186e+09</td>\n",
       "      <td>1.306183e+09</td>\n",
       "    </tr>\n",
       "    <tr>\n",
       "      <th>25%</th>\n",
       "      <td>1.000000</td>\n",
       "      <td>2.000000</td>\n",
       "      <td>0.000000</td>\n",
       "      <td>4.615590</td>\n",
       "      <td>519.981386</td>\n",
       "      <td>0.000000</td>\n",
       "      <td>276.464363</td>\n",
       "      <td>0.000000</td>\n",
       "      <td>8.000000</td>\n",
       "      <td>0.000000</td>\n",
       "      <td>...</td>\n",
       "      <td>2.000000</td>\n",
       "      <td>0.000000</td>\n",
       "      <td>1.000000</td>\n",
       "      <td>1.000000</td>\n",
       "      <td>3.000000</td>\n",
       "      <td>21.000000</td>\n",
       "      <td>9.000000e+00</td>\n",
       "      <td>5.500000e+01</td>\n",
       "      <td>1.320863e+09</td>\n",
       "      <td>1.320863e+09</td>\n",
       "    </tr>\n",
       "    <tr>\n",
       "      <th>50%</th>\n",
       "      <td>2.000000</td>\n",
       "      <td>4.000000</td>\n",
       "      <td>1.000000</td>\n",
       "      <td>154.850752</td>\n",
       "      <td>750.433814</td>\n",
       "      <td>0.000000</td>\n",
       "      <td>534.842367</td>\n",
       "      <td>24.000000</td>\n",
       "      <td>116.500000</td>\n",
       "      <td>0.000000</td>\n",
       "      <td>...</td>\n",
       "      <td>13.000000</td>\n",
       "      <td>0.000000</td>\n",
       "      <td>1.000000</td>\n",
       "      <td>11.000000</td>\n",
       "      <td>175.000000</td>\n",
       "      <td>714.000000</td>\n",
       "      <td>3.350000e+02</td>\n",
       "      <td>1.298000e+03</td>\n",
       "      <td>1.342154e+09</td>\n",
       "      <td>1.342151e+09</td>\n",
       "    </tr>\n",
       "    <tr>\n",
       "      <th>75%</th>\n",
       "      <td>3.000000</td>\n",
       "      <td>7.000000</td>\n",
       "      <td>4.000000</td>\n",
       "      <td>391.212520</td>\n",
       "      <td>896.280307</td>\n",
       "      <td>0.000000</td>\n",
       "      <td>776.019974</td>\n",
       "      <td>138.000000</td>\n",
       "      <td>483.000000</td>\n",
       "      <td>0.000000</td>\n",
       "      <td>...</td>\n",
       "      <td>46.000000</td>\n",
       "      <td>0.000000</td>\n",
       "      <td>1.000000</td>\n",
       "      <td>27.000000</td>\n",
       "      <td>1158.000000</td>\n",
       "      <td>3301.750000</td>\n",
       "      <td>2.300750e+03</td>\n",
       "      <td>6.745250e+03</td>\n",
       "      <td>1.365002e+09</td>\n",
       "      <td>1.364998e+09</td>\n",
       "    </tr>\n",
       "    <tr>\n",
       "      <th>max</th>\n",
       "      <td>32.000000</td>\n",
       "      <td>345.000000</td>\n",
       "      <td>61.000000</td>\n",
       "      <td>1992.518657</td>\n",
       "      <td>2733.297060</td>\n",
       "      <td>785.457685</td>\n",
       "      <td>927.447442</td>\n",
       "      <td>990.000000</td>\n",
       "      <td>1000.000000</td>\n",
       "      <td>77.000000</td>\n",
       "      <td>...</td>\n",
       "      <td>972.000000</td>\n",
       "      <td>4.000000</td>\n",
       "      <td>9.000000</td>\n",
       "      <td>186.000000</td>\n",
       "      <td>155010.000000</td>\n",
       "      <td>223708.000000</td>\n",
       "      <td>1.286864e+06</td>\n",
       "      <td>2.046482e+06</td>\n",
       "      <td>1.381552e+09</td>\n",
       "      <td>1.381523e+09</td>\n",
       "    </tr>\n",
       "  </tbody>\n",
       "</table>\n",
       "<p>8 rows × 22 columns</p>\n",
       "</div>"
      ],
      "text/plain": [
       "       number_of_downvotes_of_request_at_retrieval  \\\n",
       "count                                  1616.000000   \n",
       "mean                                      2.324876   \n",
       "std                                       2.804733   \n",
       "min                                       0.000000   \n",
       "25%                                       1.000000   \n",
       "50%                                       2.000000   \n",
       "75%                                       3.000000   \n",
       "max                                      32.000000   \n",
       "\n",
       "       number_of_upvotes_of_request_at_retrieval  \\\n",
       "count                                1616.000000   \n",
       "mean                                    6.086015   \n",
       "std                                    11.352638   \n",
       "min                                     0.000000   \n",
       "25%                                     2.000000   \n",
       "50%                                     4.000000   \n",
       "75%                                     7.000000   \n",
       "max                                   345.000000   \n",
       "\n",
       "       request_number_of_comments_at_retrieval  \\\n",
       "count                              1616.000000   \n",
       "mean                                  2.899134   \n",
       "std                                   5.014811   \n",
       "min                                   0.000000   \n",
       "25%                                   0.000000   \n",
       "50%                                   1.000000   \n",
       "75%                                   4.000000   \n",
       "max                                  61.000000   \n",
       "\n",
       "       requester_account_age_in_days_at_request  \\\n",
       "count                               1616.000000   \n",
       "mean                                 250.851605   \n",
       "std                                  295.647286   \n",
       "min                                    0.000000   \n",
       "25%                                    4.615590   \n",
       "50%                                  154.850752   \n",
       "75%                                  391.212520   \n",
       "max                                 1992.518657   \n",
       "\n",
       "       requester_account_age_in_days_at_retrieval  \\\n",
       "count                                 1616.000000   \n",
       "mean                                   752.528689   \n",
       "std                                    330.340418   \n",
       "min                                     75.817535   \n",
       "25%                                    519.981386   \n",
       "50%                                    750.433814   \n",
       "75%                                    896.280307   \n",
       "max                                   2733.297060   \n",
       "\n",
       "       requester_days_since_first_post_on_raop_at_request  \\\n",
       "count                                        1616.000000    \n",
       "mean                                           17.260219    \n",
       "std                                            73.983087    \n",
       "min                                             0.000000    \n",
       "25%                                             0.000000    \n",
       "50%                                             0.000000    \n",
       "75%                                             0.000000    \n",
       "max                                           785.457685    \n",
       "\n",
       "       requester_days_since_first_post_on_raop_at_retrieval  \\\n",
       "count                                        1616.000000      \n",
       "mean                                          518.420399      \n",
       "std                                           269.516709      \n",
       "min                                             0.000000      \n",
       "25%                                           276.464363      \n",
       "50%                                           534.842367      \n",
       "75%                                           776.019974      \n",
       "max                                           927.447442      \n",
       "\n",
       "       requester_number_of_comments_at_request  \\\n",
       "count                              1616.000000   \n",
       "mean                                112.051361   \n",
       "std                                 187.277828   \n",
       "min                                   0.000000   \n",
       "25%                                   0.000000   \n",
       "50%                                  24.000000   \n",
       "75%                                 138.000000   \n",
       "max                                 990.000000   \n",
       "\n",
       "       requester_number_of_comments_at_retrieval  \\\n",
       "count                                1616.000000   \n",
       "mean                                  288.955446   \n",
       "std                                   354.743297   \n",
       "min                                     0.000000   \n",
       "25%                                     8.000000   \n",
       "50%                                   116.500000   \n",
       "75%                                   483.000000   \n",
       "max                                  1000.000000   \n",
       "\n",
       "       requester_number_of_comments_in_raop_at_request  \\\n",
       "count                                      1616.000000   \n",
       "mean                                          0.698639   \n",
       "std                                           3.473583   \n",
       "min                                           0.000000   \n",
       "25%                                           0.000000   \n",
       "50%                                           0.000000   \n",
       "75%                                           0.000000   \n",
       "max                                          77.000000   \n",
       "\n",
       "                   ...                requester_number_of_posts_at_retrieval  \\\n",
       "count              ...                                           1616.000000   \n",
       "mean               ...                                             41.594059   \n",
       "std                ...                                             79.017479   \n",
       "min                ...                                              0.000000   \n",
       "25%                ...                                              2.000000   \n",
       "50%                ...                                             13.000000   \n",
       "75%                ...                                             46.000000   \n",
       "max                ...                                            972.000000   \n",
       "\n",
       "       requester_number_of_posts_on_raop_at_request  \\\n",
       "count                                   1616.000000   \n",
       "mean                                       0.068688   \n",
       "std                                        0.321929   \n",
       "min                                        0.000000   \n",
       "25%                                        0.000000   \n",
       "50%                                        0.000000   \n",
       "75%                                        0.000000   \n",
       "max                                        4.000000   \n",
       "\n",
       "       requester_number_of_posts_on_raop_at_retrieval  \\\n",
       "count                                     1616.000000   \n",
       "mean                                         1.261139   \n",
       "std                                          0.640143   \n",
       "min                                          0.000000   \n",
       "25%                                          1.000000   \n",
       "50%                                          1.000000   \n",
       "75%                                          1.000000   \n",
       "max                                          9.000000   \n",
       "\n",
       "       requester_number_of_subreddits_at_request  \\\n",
       "count                                1616.000000   \n",
       "mean                                   17.790223   \n",
       "std                                    21.279765   \n",
       "min                                     0.000000   \n",
       "25%                                     1.000000   \n",
       "50%                                    11.000000   \n",
       "75%                                    27.000000   \n",
       "max                                   186.000000   \n",
       "\n",
       "       requester_upvotes_minus_downvotes_at_request  \\\n",
       "count                                   1616.000000   \n",
       "mean                                    1198.189975   \n",
       "std                                     4712.831861   \n",
       "min                                      -39.000000   \n",
       "25%                                        3.000000   \n",
       "50%                                      175.000000   \n",
       "75%                                     1158.000000   \n",
       "max                                   155010.000000   \n",
       "\n",
       "       requester_upvotes_minus_downvotes_at_retrieval  \\\n",
       "count                                     1616.000000   \n",
       "mean                                      2773.441832   \n",
       "std                                       7519.415498   \n",
       "min                                        -16.000000   \n",
       "25%                                         21.000000   \n",
       "50%                                        714.000000   \n",
       "75%                                       3301.750000   \n",
       "max                                     223708.000000   \n",
       "\n",
       "       requester_upvotes_plus_downvotes_at_request  \\\n",
       "count                                 1.616000e+03   \n",
       "mean                                  4.056832e+03   \n",
       "std                                   3.375351e+04   \n",
       "min                                   0.000000e+00   \n",
       "25%                                   9.000000e+00   \n",
       "50%                                   3.350000e+02   \n",
       "75%                                   2.300750e+03   \n",
       "max                                   1.286864e+06   \n",
       "\n",
       "       requester_upvotes_plus_downvotes_at_retrieval  \\\n",
       "count                                   1.616000e+03   \n",
       "mean                                    8.247335e+03   \n",
       "std                                     5.358297e+04   \n",
       "min                                     1.000000e+00   \n",
       "25%                                     5.500000e+01   \n",
       "50%                                     1.298000e+03   \n",
       "75%                                     6.745250e+03   \n",
       "max                                     2.046482e+06   \n",
       "\n",
       "       unix_timestamp_of_request  unix_timestamp_of_request_utc  \n",
       "count               1.616000e+03                   1.616000e+03  \n",
       "mean                1.342974e+09                   1.342971e+09  \n",
       "std                 2.347930e+07                   2.347862e+07  \n",
       "min                 1.306186e+09                   1.306183e+09  \n",
       "25%                 1.320863e+09                   1.320863e+09  \n",
       "50%                 1.342154e+09                   1.342151e+09  \n",
       "75%                 1.365002e+09                   1.364998e+09  \n",
       "max                 1.381552e+09                   1.381523e+09  \n",
       "\n",
       "[8 rows x 22 columns]"
      ]
     },
     "execution_count": 31,
     "metadata": {},
     "output_type": "execute_result"
    }
   ],
   "source": [
    "# Summary of the development data\n",
    "dev_df.describe()"
   ]
  },
  {
   "cell_type": "markdown",
   "metadata": {},
   "source": [
    "<a id=\"datacleaning\"></a>"
   ]
  },
  {
   "cell_type": "markdown",
   "metadata": {},
   "source": [
    "### 2.2 Data Cleaning\n",
    "\n",
    "#### De-duplicate"
   ]
  },
  {
   "cell_type": "code",
   "execution_count": 45,
   "metadata": {},
   "outputs": [],
   "source": [
    "# train_df.duplicated()\n",
    "### TS NOTE ### - values stored as lists - not going to go through with fixing this, would prefer to just assume the data is de-duplicated"
   ]
  },
  {
   "cell_type": "markdown",
   "metadata": {},
   "source": [
    "#### Remove outliers"
   ]
  },
  {
   "cell_type": "code",
   "execution_count": 46,
   "metadata": {},
   "outputs": [
    {
     "name": "stderr",
     "output_type": "stream",
     "text": [
      "C:\\Users\\manat\\Anaconda3\\lib\\site-packages\\scipy\\stats\\stats.py:1713: FutureWarning: Using a non-tuple sequence for multidimensional indexing is deprecated; use `arr[tuple(seq)]` instead of `arr[seq]`. In the future this will be interpreted as an array index, `arr[np.array(seq)]`, which will result either in an error or a different result.\n",
      "  return np.add.reduce(sorted[indexer] * weights, axis=axis) / sumval\n"
     ]
    },
    {
     "data": {
      "image/png": "[encoded data removed]",
      "text/plain": [
       "<Figure size 432x288 with 1 Axes>"
      ]
     },
     "metadata": {
      "needs_background": "light"
     },
     "output_type": "display_data"
    }
   ],
   "source": [
    "# Remove outlier up_plus_down\n",
    "sns.distplot(train_df.loc[:,'requester_upvotes_plus_downvotes_at_request']);"
   ]
  },
  {
   "cell_type": "code",
   "execution_count": 47,
   "metadata": {},
   "outputs": [
    {
     "data": {
      "text/html": [
       "<div>\n",
       "<style scoped>\n",
       "    .dataframe tbody tr th:only-of-type {\n",
       "        vertical-align: middle;\n",
       "    }\n",
       "\n",
       "    .dataframe tbody tr th {\n",
       "        vertical-align: top;\n",
       "    }\n",
       "\n",
       "    .dataframe thead th {\n",
       "        text-align: right;\n",
       "    }\n",
       "</style>\n",
       "<table border=\"1\" class=\"dataframe\">\n",
       "  <thead>\n",
       "    <tr style=\"text-align: right;\">\n",
       "      <th></th>\n",
       "      <th>giver_username_if_known</th>\n",
       "      <th>number_of_downvotes_of_request_at_retrieval</th>\n",
       "      <th>number_of_upvotes_of_request_at_retrieval</th>\n",
       "      <th>post_was_edited</th>\n",
       "      <th>request_id</th>\n",
       "      <th>request_number_of_comments_at_retrieval</th>\n",
       "      <th>request_text</th>\n",
       "      <th>request_text_edit_aware</th>\n",
       "      <th>request_title</th>\n",
       "      <th>requester_account_age_in_days_at_request</th>\n",
       "      <th>...</th>\n",
       "      <th>requester_received_pizza</th>\n",
       "      <th>requester_subreddits_at_request</th>\n",
       "      <th>requester_upvotes_minus_downvotes_at_request</th>\n",
       "      <th>requester_upvotes_minus_downvotes_at_retrieval</th>\n",
       "      <th>requester_upvotes_plus_downvotes_at_request</th>\n",
       "      <th>requester_upvotes_plus_downvotes_at_retrieval</th>\n",
       "      <th>requester_user_flair</th>\n",
       "      <th>requester_username</th>\n",
       "      <th>unix_timestamp_of_request</th>\n",
       "      <th>unix_timestamp_of_request_utc</th>\n",
       "    </tr>\n",
       "  </thead>\n",
       "  <tbody>\n",
       "    <tr>\n",
       "      <th>325</th>\n",
       "      <td>N/A</td>\n",
       "      <td>1</td>\n",
       "      <td>4</td>\n",
       "      <td>False</td>\n",
       "      <td>t3_1h9ylg</td>\n",
       "      <td>3</td>\n",
       "      <td></td>\n",
       "      <td></td>\n",
       "      <td>(request) Never had to do this before, but my ...</td>\n",
       "      <td>276.103021</td>\n",
       "      <td>...</td>\n",
       "      <td>False</td>\n",
       "      <td>[AdviceAnimals, AskReddit, AskScienceFiction, ...</td>\n",
       "      <td>87911</td>\n",
       "      <td>108977</td>\n",
       "      <td>789287</td>\n",
       "      <td>883299</td>\n",
       "      <td>None</td>\n",
       "      <td>kevonicus</td>\n",
       "      <td>1.372461e+09</td>\n",
       "      <td>1.372457e+09</td>\n",
       "    </tr>\n",
       "    <tr>\n",
       "      <th>4013</th>\n",
       "      <td>N/A</td>\n",
       "      <td>3</td>\n",
       "      <td>14</td>\n",
       "      <td>1.37788e+09</td>\n",
       "      <td>t3_1lefgo</td>\n",
       "      <td>5</td>\n",
       "      <td>We dont tend to have fast food pizza, we make ...</td>\n",
       "      <td>We dont tend to have fast food pizza, we make ...</td>\n",
       "      <td>[Request] No manipulative sob story, Id just l...</td>\n",
       "      <td>473.575671</td>\n",
       "      <td>...</td>\n",
       "      <td>False</td>\n",
       "      <td>[4chan, AdviceAnimals, Art, AskReddit, DIY, Fe...</td>\n",
       "      <td>23593</td>\n",
       "      <td>25513</td>\n",
       "      <td>194891</td>\n",
       "      <td>199437</td>\n",
       "      <td>None</td>\n",
       "      <td>BisFitty</td>\n",
       "      <td>1.377876e+09</td>\n",
       "      <td>1.377872e+09</td>\n",
       "    </tr>\n",
       "    <tr>\n",
       "      <th>1950</th>\n",
       "      <td>N/A</td>\n",
       "      <td>1</td>\n",
       "      <td>6</td>\n",
       "      <td>False</td>\n",
       "      <td>t3_13n4wc</td>\n",
       "      <td>3</td>\n",
       "      <td>Held a contest for a pizza/gift card \\nhttp://...</td>\n",
       "      <td>Held a contest for a pizza/gift card \\nhttp://...</td>\n",
       "      <td>[Request] Need help buying gift card for a USA...</td>\n",
       "      <td>444.186377</td>\n",
       "      <td>...</td>\n",
       "      <td>True</td>\n",
       "      <td>[AskReddit, CheapShark, Fixxit, IAmA, Random_A...</td>\n",
       "      <td>23293</td>\n",
       "      <td>49748</td>\n",
       "      <td>184831</td>\n",
       "      <td>304254</td>\n",
       "      <td>shroom</td>\n",
       "      <td>EvilCyborg10</td>\n",
       "      <td>1.353628e+09</td>\n",
       "      <td>1.353628e+09</td>\n",
       "    </tr>\n",
       "  </tbody>\n",
       "</table>\n",
       "<p>3 rows × 32 columns</p>\n",
       "</div>"
      ],
      "text/plain": [
       "     giver_username_if_known  number_of_downvotes_of_request_at_retrieval  \\\n",
       "325                      N/A                                            1   \n",
       "4013                     N/A                                            3   \n",
       "1950                     N/A                                            1   \n",
       "\n",
       "      number_of_upvotes_of_request_at_retrieval post_was_edited request_id  \\\n",
       "325                                           4           False  t3_1h9ylg   \n",
       "4013                                         14     1.37788e+09  t3_1lefgo   \n",
       "1950                                          6           False  t3_13n4wc   \n",
       "\n",
       "      request_number_of_comments_at_retrieval  \\\n",
       "325                                         3   \n",
       "4013                                        5   \n",
       "1950                                        3   \n",
       "\n",
       "                                           request_text  \\\n",
       "325                                                       \n",
       "4013  We dont tend to have fast food pizza, we make ...   \n",
       "1950  Held a contest for a pizza/gift card \\nhttp://...   \n",
       "\n",
       "                                request_text_edit_aware  \\\n",
       "325                                                       \n",
       "4013  We dont tend to have fast food pizza, we make ...   \n",
       "1950  Held a contest for a pizza/gift card \\nhttp://...   \n",
       "\n",
       "                                          request_title  \\\n",
       "325   (request) Never had to do this before, but my ...   \n",
       "4013  [Request] No manipulative sob story, Id just l...   \n",
       "1950  [Request] Need help buying gift card for a USA...   \n",
       "\n",
       "      requester_account_age_in_days_at_request              ...                \\\n",
       "325                                 276.103021              ...                 \n",
       "4013                                473.575671              ...                 \n",
       "1950                                444.186377              ...                 \n",
       "\n",
       "      requester_received_pizza  \\\n",
       "325                      False   \n",
       "4013                     False   \n",
       "1950                      True   \n",
       "\n",
       "                        requester_subreddits_at_request  \\\n",
       "325   [AdviceAnimals, AskReddit, AskScienceFiction, ...   \n",
       "4013  [4chan, AdviceAnimals, Art, AskReddit, DIY, Fe...   \n",
       "1950  [AskReddit, CheapShark, Fixxit, IAmA, Random_A...   \n",
       "\n",
       "      requester_upvotes_minus_downvotes_at_request  \\\n",
       "325                                          87911   \n",
       "4013                                         23593   \n",
       "1950                                         23293   \n",
       "\n",
       "      requester_upvotes_minus_downvotes_at_retrieval  \\\n",
       "325                                           108977   \n",
       "4013                                           25513   \n",
       "1950                                           49748   \n",
       "\n",
       "      requester_upvotes_plus_downvotes_at_request  \\\n",
       "325                                        789287   \n",
       "4013                                       194891   \n",
       "1950                                       184831   \n",
       "\n",
       "      requester_upvotes_plus_downvotes_at_retrieval  requester_user_flair  \\\n",
       "325                                          883299                  None   \n",
       "4013                                         199437                  None   \n",
       "1950                                         304254                shroom   \n",
       "\n",
       "      requester_username  unix_timestamp_of_request  \\\n",
       "325            kevonicus               1.372461e+09   \n",
       "4013            BisFitty               1.377876e+09   \n",
       "1950        EvilCyborg10               1.353628e+09   \n",
       "\n",
       "      unix_timestamp_of_request_utc  \n",
       "325                    1.372457e+09  \n",
       "4013                   1.377872e+09  \n",
       "1950                   1.353628e+09  \n",
       "\n",
       "[3 rows x 32 columns]"
      ]
     },
     "execution_count": 47,
     "metadata": {},
     "output_type": "execute_result"
    }
   ],
   "source": [
    "train_df.nlargest(3, 'requester_upvotes_plus_downvotes_at_request')"
   ]
  },
  {
   "cell_type": "code",
   "execution_count": 48,
   "metadata": {},
   "outputs": [
    {
     "name": "stdout",
     "output_type": "stream",
     "text": [
      "(2424, 32)\n",
      "(2423, 32)\n"
     ]
    }
   ],
   "source": [
    "# Such a long right tail and the person with the most up_plus_down is not even the most frequent poster or oldest account, just a troll. Remove\n",
    "print(train_df.shape)\n",
    "train_df = train_df[train_df.requester_upvotes_plus_downvotes_at_request != 789287]\n",
    "print(train_df.shape)"
   ]
  },
  {
   "cell_type": "markdown",
   "metadata": {},
   "source": [
    "#### Convert variables"
   ]
  },
  {
   "cell_type": "code",
   "execution_count": 72,
   "metadata": {},
   "outputs": [],
   "source": [
    "# Received as numeric\n",
    "train_df['requester_received_pizza_int'] = train_df.requester_received_pizza.astype(int)"
   ]
  },
  {
   "cell_type": "markdown",
   "metadata": {},
   "source": [
    "<a id=\"eda\"></a>"
   ]
  },
  {
   "cell_type": "markdown",
   "metadata": {},
   "source": [
    "## 3. Exploratory Data Analysis  "
   ]
  },
  {
   "cell_type": "markdown",
   "metadata": {},
   "source": [
    "<a id=\"featinterest\"></a>"
   ]
  },
  {
   "cell_type": "markdown",
   "metadata": {},
   "source": [
    "### 3.1 Features of Interest\n",
    "\n",
    "Success of these reddit requests depend on factors like who is asking, how they are asking, and when are they asking. This will help us understand the attributes of the best formulated requests and why certain ones are promoted higher than others.\n",
    "\n",
    "#### Meta-Data Features\n",
    "\n",
    "_General Note_ Many features not present in test data are not known at time of posting, therefore they will be ignored for this analysis. This includes the \"at retrieval\" statistics, RAOP \"user flair\", and raw (i.e. non-\"edit aware\") request text.  \n",
    "\n",
    "**Time**  \n",
    "Time is a very basic but important feature to include. Logically, there are likely times of day when more users are active on RAOP and this may have varied effects on the behaviors we observe:  \n",
    "- More users requesting may make the environment more competitive (i.e. harder for a single post to stand out) \n",
    "- Conversely, more users giving may make likelihood of success higher (all things equal).  \n",
    "    - _NOTE_, however, that we cannot observe the time of giving in this dataset.  \n",
    "\n",
    "These periods of increased requests/gives may not coincide with one another and it will be important to understand the periods of high and low activity relative to UTC; there may be multiple shifts throughout a day coinciding with higher activity in different countries/time zones around the globe.  \n",
    "\n",
    "**Requester Profile**    \n",
    "In attempting to predict likelihood of fulfillment for a request on RAOP based on featues related to the profile of the requester, we believe it may be important to make a distinction between: \n",
    "- _Primary_ profile features (i.e. features which an average reader/potential giver on RAOP may see/consider)\n",
    "    - Age of account - whether it appears to be a new/throwaway account or a longtime veteran  \n",
    "    - Number and frequency of requests - if the requester has made requests before\n",
    "- _Secondary_ features (i.e. extended detail about requester activity on Reddit that a potential giver might not see, and therefore it wouldn't have as much influence on their likelihood of fulfilling the request or not)  \n",
    "    - Comments made\n",
    "    - Posts\n",
    "    - Sub-Reddits in which they participate\n",
    "    - Upvotes/Downvotes\n",
    "\n",
    "**Community Effects (Secondary)**  \n",
    "The training data constains featues related to the reactions to a request on RAOP (upvotes/downvotes/comments) which, while not available in the test data and not appropriate for success classifcation algorithm (given that we don't know this info at time of the request nor do we know if this activity happened before/after the request was fulfilled), positive or contentious reactions to posts may be correlated with success/fulfillment. Therefore, it may be worhtwhile to explore these relationships and, if useful, a sensitivity analysis that predicts these metrics to provide additional insight into predictive features.  "
   ]
  },
  {
   "cell_type": "markdown",
   "metadata": {},
   "source": [
    "<a id=\"corrplot\"></a>"
   ]
  },
  {
   "cell_type": "markdown",
   "metadata": {},
   "source": [
    "### 3.2 Variable correlation plot"
   ]
  },
  {
   "cell_type": "code",
   "execution_count": 49,
   "metadata": {},
   "outputs": [],
   "source": [
    "# Create new dataframe with only the shared columns\n",
    "train_w_test = train_df[test_df.columns.values]"
   ]
  },
  {
   "cell_type": "code",
   "execution_count": 50,
   "metadata": {},
   "outputs": [
    {
     "data": {
      "text/plain": [
       "<matplotlib.axes._subplots.AxesSubplot at 0x21d377e0c88>"
      ]
     },
     "execution_count": 50,
     "metadata": {},
     "output_type": "execute_result"
    },
    {
     "data": {
      "image/png": "[encoded data removed]",
      "text/plain": [
       "<Figure size 720x576 with 2 Axes>"
      ]
     },
     "metadata": {
      "needs_background": "light"
     },
     "output_type": "display_data"
    }
   ],
   "source": [
    "f, ax = plt.subplots(figsize=(10, 8))\n",
    "train_w_test['requester_received_pizza'] = train_df['requester_received_pizza']\n",
    "corr = train_w_test.corr()\n",
    "sns.heatmap(corr, \n",
    "            mask=np.zeros_like(corr, dtype = np.bool), \n",
    "            cmap=sns.diverging_palette(220, 10, as_cmap = True),\n",
    "            square=True, \n",
    "            ax=ax)"
   ]
  },
  {
   "cell_type": "markdown",
   "metadata": {},
   "source": [
    "Notes\n",
    "\n",
    "1. Request timing- Day of the week and time of the day\n",
    "2. Text Field length\n",
    "3. Upvotes vs Downvotes  \n",
    "4. Requester account vs activity - evaluate the various requester feature differences between those whose requests were fulfilled, and those whose requests were not\n",
    "5. Perform Topic Modeling using LDA or NMF to identify most common topics and then, we'll be able to group them into categories (https://medium.com/mlreview/topic-modeling-with-scikit-learn-e80d33668730) \n",
    "6. Word clouds around successful/unsuccessful words  "
   ]
  },
  {
   "cell_type": "markdown",
   "metadata": {},
   "source": [
    "<a id=\"time\"></a>"
   ]
  },
  {
   "cell_type": "markdown",
   "metadata": {},
   "source": [
    "### 3.3 Request Time Variables\n",
    "\n",
    "Let's break down Request Time into 4 Trends and do a deeper dive into each of these: \n",
    "\n",
    "1. Frequency of Requests over Months\n",
    "2. Fulfillment of Requests over Months\n",
    "3. Fulfillment - Day of the Week\n",
    "4. Fulfillment - Time of the Day\n",
    "\n",
    "#### 1. Frequency of Requests over Months\n",
    "\n",
    "This would show us how many requests for Pizza posts occurred over the entire duration of the dataset between 2011 and 2013. "
   ]
  },
  {
   "cell_type": "code",
   "execution_count": 51,
   "metadata": {},
   "outputs": [
    {
     "data": {
      "text/plain": [
       "Text(0,0.5,'Number of Posts/ Requests')"
      ]
     },
     "execution_count": 51,
     "metadata": {},
     "output_type": "execute_result"
    },
    {
     "data": {
      "image/png": "[encoded data removed]",
      "text/plain": [
       "<Figure size 432x288 with 1 Axes>"
      ]
     },
     "metadata": {
      "needs_background": "light"
     },
     "output_type": "display_data"
    }
   ],
   "source": [
    "d = pd.DataFrame()\n",
    "d['datetime'] = pd.to_datetime(train_df[\"unix_timestamp_of_request\"], unit = 's')\n",
    "d.index = d['datetime']\n",
    "d['datetime'].resample('W').count().plot().set_title('Number of Posts Across the Entire Dataset- 2011 to 2013')\n",
    "plt.xlabel('Month & Year in the Dataset')\n",
    "plt.ylabel('Number of Posts/ Requests')"
   ]
  },
  {
   "cell_type": "markdown",
   "metadata": {},
   "source": [
    "We can see from the above graph that there were a lot of posts around the 6 month mark of the reddit community opening until about July 2011. There also seems to be a spike towards the end of the dataset- July & August 2013. \n",
    "\n",
    "#### 2. Fulfillment of Requests over Months\n",
    "\n",
    "This would show us how many Pizza givers there were over the entire duration of the dataset between 2011 and 2013. "
   ]
  },
  {
   "cell_type": "code",
   "execution_count": 52,
   "metadata": {},
   "outputs": [
    {
     "data": {
      "text/plain": [
       "Text(0,0.5,'Percentage of Fulfilled Requests')"
      ]
     },
     "execution_count": 52,
     "metadata": {},
     "output_type": "execute_result"
    },
    {
     "data": {
      "image/png": "[encoded data removed]",
      "text/plain": [
       "<Figure size 432x288 with 1 Axes>"
      ]
     },
     "metadata": {
      "needs_background": "light"
     },
     "output_type": "display_data"
    }
   ],
   "source": [
    "d = pd.DataFrame()\n",
    "d['datetime'] = pd.to_datetime(train_df[\"unix_timestamp_of_request\"], unit = 's')\n",
    "train_labels = train_df[\"requester_received_pizza\"]\n",
    "d['result'] = train_labels\n",
    "d.index = d['datetime']\n",
    "d.resample('W').mean().plot().set_title(\"Percentage of Pizza Requests Fulfilled Across the Dataset\")\n",
    "plt.xlabel('Month & Year in the Dataset')\n",
    "plt.ylabel('Percentage of Fulfilled Requests')"
   ]
  },
  {
   "cell_type": "markdown",
   "metadata": {},
   "source": [
    "The above plot shows that request fulfillment was at its highest at the start of the group. However despite a few peaks during the Winter (Dec-Jan season) the overall fulfillment % has fallen over time. This shows that people are more willing to give during the Holiday season.\n",
    "\n",
    "#### 3. Day of the Week \n",
    "\n",
    "Let's now look into whether the Day of the Week played a role in Pizza request fulfillments."
   ]
  },
  {
   "cell_type": "code",
   "execution_count": 55,
   "metadata": {},
   "outputs": [
    {
     "data": {
      "text/html": [
       "<div>\n",
       "<style scoped>\n",
       "    .dataframe tbody tr th:only-of-type {\n",
       "        vertical-align: middle;\n",
       "    }\n",
       "\n",
       "    .dataframe tbody tr th {\n",
       "        vertical-align: top;\n",
       "    }\n",
       "\n",
       "    .dataframe thead tr th {\n",
       "        text-align: left;\n",
       "    }\n",
       "\n",
       "    .dataframe thead tr:last-of-type th {\n",
       "        text-align: right;\n",
       "    }\n",
       "</style>\n",
       "<table border=\"1\" class=\"dataframe\">\n",
       "  <thead>\n",
       "    <tr>\n",
       "      <th></th>\n",
       "      <th colspan=\"2\" halign=\"left\">result</th>\n",
       "      <th colspan=\"2\" halign=\"left\">hour</th>\n",
       "    </tr>\n",
       "    <tr>\n",
       "      <th></th>\n",
       "      <th>mean</th>\n",
       "      <th>count</th>\n",
       "      <th>mean</th>\n",
       "      <th>count</th>\n",
       "    </tr>\n",
       "    <tr>\n",
       "      <th>Day_of_Week</th>\n",
       "      <th></th>\n",
       "      <th></th>\n",
       "      <th></th>\n",
       "      <th></th>\n",
       "    </tr>\n",
       "  </thead>\n",
       "  <tbody>\n",
       "    <tr>\n",
       "      <th>Monday</th>\n",
       "      <td>0.259669</td>\n",
       "      <td>362</td>\n",
       "      <td>12.165746</td>\n",
       "      <td>362</td>\n",
       "    </tr>\n",
       "    <tr>\n",
       "      <th>Tuesday</th>\n",
       "      <td>0.235127</td>\n",
       "      <td>353</td>\n",
       "      <td>12.087819</td>\n",
       "      <td>353</td>\n",
       "    </tr>\n",
       "    <tr>\n",
       "      <th>Wednesday</th>\n",
       "      <td>0.217604</td>\n",
       "      <td>409</td>\n",
       "      <td>12.012225</td>\n",
       "      <td>409</td>\n",
       "    </tr>\n",
       "    <tr>\n",
       "      <th>Thursday</th>\n",
       "      <td>0.302053</td>\n",
       "      <td>341</td>\n",
       "      <td>11.900293</td>\n",
       "      <td>341</td>\n",
       "    </tr>\n",
       "    <tr>\n",
       "      <th>Friday</th>\n",
       "      <td>0.259615</td>\n",
       "      <td>312</td>\n",
       "      <td>11.339744</td>\n",
       "      <td>312</td>\n",
       "    </tr>\n",
       "    <tr>\n",
       "      <th>Saturday</th>\n",
       "      <td>0.204473</td>\n",
       "      <td>313</td>\n",
       "      <td>12.434505</td>\n",
       "      <td>313</td>\n",
       "    </tr>\n",
       "    <tr>\n",
       "      <th>Sunday</th>\n",
       "      <td>0.246246</td>\n",
       "      <td>333</td>\n",
       "      <td>12.927928</td>\n",
       "      <td>333</td>\n",
       "    </tr>\n",
       "  </tbody>\n",
       "</table>\n",
       "</div>"
      ],
      "text/plain": [
       "               result             hour      \n",
       "                 mean count       mean count\n",
       "Day_of_Week                                 \n",
       "Monday       0.259669   362  12.165746   362\n",
       "Tuesday      0.235127   353  12.087819   353\n",
       "Wednesday    0.217604   409  12.012225   409\n",
       "Thursday     0.302053   341  11.900293   341\n",
       "Friday       0.259615   312  11.339744   312\n",
       "Saturday     0.204473   313  12.434505   313\n",
       "Sunday       0.246246   333  12.927928   333"
      ]
     },
     "execution_count": 55,
     "metadata": {},
     "output_type": "execute_result"
    }
   ],
   "source": [
    "days = ['Monday','Tuesday','Wednesday','Thursday','Friday','Saturday', 'Sunday']\n",
    "d['Day_of_Week'] = d['datetime'].dt.weekday_name\n",
    "week_df = d.groupby('Day_of_Week').agg(['mean', 'count']).reindex(days)\n",
    "week_df ### NOTE ### - just returning pandas dataframe has cleaner output than wrapping in print()"
   ]
  },
  {
   "cell_type": "markdown",
   "metadata": {},
   "source": [
    "The fulfillment rate varies between 21.7% (Wednesday) to 30.2% (Thursday). \n",
    "This seems like a reasonably distinguishing feature that should be considered for our model. \n",
    "\n",
    "#### 4. Time of the Day\n",
    "\n",
    "Let's now look into whether the Time of the Day played a role in Pizza request fulfillments. "
   ]
  },
  {
   "cell_type": "code",
   "execution_count": 56,
   "metadata": {
    "scrolled": true
   },
   "outputs": [
    {
     "data": {
      "text/plain": [
       "Text(0,0.5,'Number of Requests')"
      ]
     },
     "execution_count": 56,
     "metadata": {},
     "output_type": "execute_result"
    },
    {
     "data": {
      "image/png": "[encoded data removed]",
      "text/plain": [
       "<Figure size 432x288 with 1 Axes>"
      ]
     },
     "metadata": {
      "needs_background": "light"
     },
     "output_type": "display_data"
    }
   ],
   "source": [
    "d['hour'] = d['datetime'].dt.hour\n",
    "d[['hour', 'result']].groupby('hour').agg('count').plot().set_title(\"Number of Requests through the course of 24 Hour Day\")\n",
    "plt.xlabel('Hour of the Day (0-24 Hours)')\n",
    "plt.ylabel('Number of Requests')"
   ]
  },
  {
   "cell_type": "markdown",
   "metadata": {},
   "source": [
    "We can see from the above graph that the number of posts/ requests spikes up considerably during the night times- Between 8 PM and 3 AM with a peak around Midnight. "
   ]
  },
  {
   "cell_type": "code",
   "execution_count": 57,
   "metadata": {
    "scrolled": true
   },
   "outputs": [
    {
     "data": {
      "text/plain": [
       "Text(0,0.5,'Percentage of Fulfilled Requests')"
      ]
     },
     "execution_count": 57,
     "metadata": {},
     "output_type": "execute_result"
    },
    {
     "data": {
      "image/png": "[encoded data removed]",
      "text/plain": [
       "<Figure size 432x288 with 1 Axes>"
      ]
     },
     "metadata": {
      "needs_background": "light"
     },
     "output_type": "display_data"
    }
   ],
   "source": [
    "d[['hour', 'result']].groupby('hour').agg('mean').plot().set_title(\"Requests Fulfilled over the course of the Day\")\n",
    "plt.xlabel('Hour of the Day (0-24 Hours)')\n",
    "plt.ylabel('Percentage of Fulfilled Requests')"
   ]
  },
  {
   "cell_type": "markdown",
   "metadata": {},
   "source": [
    "We can see from the above graph that the number of fulfilled requests varies from 6% to 38% depending on the time of the day."
   ]
  },
  {
   "cell_type": "markdown",
   "metadata": {},
   "source": [
    "### Visualize requests and granted requests over time"
   ]
  },
  {
   "cell_type": "code",
   "execution_count": 58,
   "metadata": {},
   "outputs": [
    {
     "data": {
      "image/png": "[encoded data removed]",
      "text/plain": [
       "<Figure size 1440x360 with 3 Axes>"
      ]
     },
     "metadata": {
      "needs_background": "light"
     },
     "output_type": "display_data"
    }
   ],
   "source": [
    "# Data setup\n",
    "train_w_test = train_w_test.assign(\n",
    "    unix_timestamp_of_request = pd.to_datetime(\n",
    "        train_w_test.unix_timestamp_of_request, unit = \"s\"),\n",
    "    unix_timestamp_of_request_utc = pd.to_datetime(\n",
    "        train_w_test.unix_timestamp_of_request_utc, unit = \"s\"))\n",
    "\n",
    "ts = pd.DataFrame({'granted requests':train_df.requester_received_pizza.tolist(),\n",
    "                  'requests':[1] * train_df[['requester_received_pizza']].shape[0]},\n",
    "                  index = train_w_test.unix_timestamp_of_request.dt.date.tolist())\n",
    "\n",
    "ts = ts.groupby(ts.index).sum()\n",
    "\n",
    "ts_month = pd.DataFrame({'granted requests':train_df.requester_received_pizza.tolist(),\n",
    "                  'requests':[1] * train_df[['requester_received_pizza']].shape[0]},\n",
    "                index = (train_w_test.unix_timestamp_of_request.dt.date + pd.offsets.MonthBegin(0)).tolist())\n",
    "\n",
    "ts_month = ts_month.groupby(ts_month.index).sum()\n",
    "\n",
    "# Plots\n",
    "# 1. By day\n",
    "plt.figure(figsize=(20, 5))\n",
    "plt.subplot(1,3,1)\n",
    "plt.plot(ts)\n",
    "plt.title(\"Number of requests and granted requests per day\")\n",
    "plt.xticks(rotation=45)\n",
    "\n",
    "# 2. By Month\n",
    "plt.subplot(1,3,2)\n",
    "plt.plot(ts_month)\n",
    "plt.title(\"Number of requests and granted requests per month\")\n",
    "plt.xticks(rotation=45)\n",
    "\n",
    "# 3. By Month (proportion)\n",
    "plt.subplot(1,3,3)\n",
    "plt.plot(ts_month.assign(prop_granted = ts_month['granted requests'] / ts_month['requests'])['prop_granted'])\n",
    "plt.title(\"proportion of requests granter per month\")\n",
    "plt.xticks(rotation=45)\n",
    "\n",
    "plt.show()"
   ]
  },
  {
   "cell_type": "markdown",
   "metadata": {},
   "source": [
    "<a id=\"profile\"></a>"
   ]
  },
  {
   "cell_type": "markdown",
   "metadata": {},
   "source": [
    "### 3.4 Requester Profile Variables"
   ]
  },
  {
   "cell_type": "code",
   "execution_count": 75,
   "metadata": {},
   "outputs": [
    {
     "data": {
      "image/png": "[encoded data removed]",
      "text/plain": [
       "<Figure size 540x540 with 12 Axes>"
      ]
     },
     "metadata": {
      "needs_background": "light"
     },
     "output_type": "display_data"
    }
   ],
   "source": [
    "train_profile = pd.DataFrame({'received':train_df.requester_received_pizza_int.tolist(),\n",
    "                              'account_age':train_df.requester_account_age_in_days_at_request.tolist(),\n",
    "                              'days_since_first_request':train_df.requester_days_since_first_post_on_raop_at_request.tolist()})\n",
    "\n",
    "sns.pairplot(train_profile);"
   ]
  },
  {
   "cell_type": "markdown",
   "metadata": {},
   "source": [
    "NOTES:\n",
    "- Interesting that many 0-day accounts and first time posters\n",
    "    - For account age we might want to isolate 0 and then stratify by a few key buckets (max of 8 years is a long time)\n",
    "    - For days_since_post defintely create first time vs repeat\n",
    "        - Also take a look at long right tail (500 seems ridiculous)\n",
    "- floor on mid-right plot shows that some people post to raop on first day of account then continue on until posting again"
   ]
  },
  {
   "cell_type": "markdown",
   "metadata": {},
   "source": [
    "NOTES:\n",
    "- Big Up/Down vote outlier - going to remove, doesn't seem reasonable (even if there is an explanation for who that person is and why they have so much voting)"
   ]
  },
  {
   "cell_type": "code",
   "execution_count": 76,
   "metadata": {},
   "outputs": [
    {
     "data": {
      "image/png": "[encoded data removed]",
      "text/plain": [
       "<Figure size 900x900 with 30 Axes>"
      ]
     },
     "metadata": {
      "needs_background": "light"
     },
     "output_type": "display_data"
    }
   ],
   "source": [
    "# Comments, Reddit and RAOP (not posts - it aligns too much with days since last post, very few observations)\n",
    "# Up/Down Votes\n",
    "train_part = pd.DataFrame({'received':train_df.requester_received_pizza_int.tolist(),\n",
    "                           'comments_raop':train_df.requester_number_of_comments_in_raop_at_request.tolist(),\n",
    "                           'comments_reddit':train_df.requester_number_of_comments_at_request.tolist(),\n",
    "                           'up_plus_down':train_df.requester_upvotes_plus_downvotes_at_request.tolist(),\n",
    "                           'up_minus_down':train_df.requester_upvotes_minus_downvotes_at_request.tolist()})\n",
    "\n",
    "sns.pairplot(train_part);"
   ]
  },
  {
   "cell_type": "markdown",
   "metadata": {},
   "source": [
    "NOTES:\n",
    "- Lurkers: \n",
    "    - Tons of 0 values on participation metrics\n",
    "    - Big leading spike in comments relative to up/downvotes\n",
    "    - Comments in RAOP not parituclarly correlated with comments outside of RAOP \n",
    "- Only noticeable correlation with received is RAOP participation"
   ]
  },
  {
   "cell_type": "markdown",
   "metadata": {},
   "source": [
    "<a id=\"textual\"></a>"
   ]
  },
  {
   "cell_type": "markdown",
   "metadata": {},
   "source": [
    "### 3.5 Textual Features\n",
    "\n",
    "#### a) Non Negative Matrix Factorization"
   ]
  },
  {
   "cell_type": "markdown",
   "metadata": {},
   "source": [
    "**From Stanford Paper**\n",
    "\n",
    "To identify the different kinds of stories we draw on previous literature suggesting that narratives can be automatically extracted using topic modeling and related techniques. We therefore perform topic modeling through non negative matrix factorization (NMF) of a TF-IDF weighted bag-of-words representation of the requests in our dataset.\n",
    "\n",
    "We additionally enforce sparsity on the topic distribution for each request to shape the topics in a way that captures most of a given request, and restrict ourselves to nouns. We choose to use 10 topics and use a SVD-based initialization for NMF."
   ]
  },
  {
   "cell_type": "code",
   "execution_count": null,
   "metadata": {},
   "outputs": [],
   "source": [
    "# Source : https://medium.com/mlreview/topic-modeling-with-scikit-learn-e80d33668730\n",
    "# NMF (Non-Negative Matrix Factorization) to understand topic breakdown\n",
    "from sklearn.decomposition import NMF, LatentDirichletAllocation\n",
    "from sklearn.feature_extraction.text import TfidfVectorizer\n",
    "from collections import Counter\n",
    "\n",
    "tfidf_vectorizer = TfidfVectorizer(max_df=0.95, \n",
    "                                   min_df=2, \n",
    "                                   max_features=1000, \n",
    "                                   stop_words='english')\n",
    "tfidf = tfidf_vectorizer.fit_transform(train_df['request_text_edit_aware'])\n",
    "tfidf_feature_names = tfidf_vectorizer.get_feature_names()\n",
    "\n",
    "nmf = NMF(n_components=10, \n",
    "          random_state=1, \n",
    "          alpha=0.1, \n",
    "          l1_ratio=0.5, \n",
    "          init='nndsvd').fit(tfidf)\n",
    "\n",
    "# Print the 5 most common topics with their count\n",
    "topics_vector = np.argmax(nmf.transform(tfidf), axis=1)\n",
    "top_5 = Counter(topics_vector).most_common(5)\n",
    "print('Top five most common topics with counts: {}'.format(str(top_5)))\n",
    "\n",
    "# Display topics with the top 10 words in each topic\n",
    "def display_topics(model, feature_names, no_words):\n",
    "    for topic_idx, topic in enumerate(model.components_):\n",
    "        print(\"\\nTopic {}:\".format(topic_idx))\n",
    "        print(\" \".join([feature_names[i]\n",
    "                        for i in topic.argsort()[:-no_words - 1:-1]]))\n",
    "\n",
    "display_topics(nmf, tfidf_feature_names, 15)"
   ]
  },
  {
   "cell_type": "markdown",
   "metadata": {},
   "source": [
    "The Top 5 topics can be put under the following categories\n",
    "- Topic 0: Job\n",
    "- Topic 1: Pizza / Craving\n",
    "- Topic 3: Reciprocity\n",
    "- Topic 8: Money\n",
    "- Topic 2: Proof / Validation"
   ]
  },
  {
   "cell_type": "markdown",
   "metadata": {},
   "source": [
    "#### b) LDA (Latent Dirichlet Allocation)\n",
    "\n",
    "LDA is based on probabilistic graphical modeling while NMF relies on linear algebra.\n",
    "\n",
    "A tf-idf transformer is applied to the bag of words matrix that NMF must process with the TfidfVectorizer. LDA on the other hand, being a probabilistic graphical model (i.e. dealing with probabilities) only requires raw counts, so a CountVectorizer is used. Stop words are removed and the number of terms included in the bag of words matrix is restricted to the top 1000."
   ]
  },
  {
   "cell_type": "code",
   "execution_count": null,
   "metadata": {},
   "outputs": [],
   "source": [
    "# Source : https://medium.com/mlreview/topic-modeling-with-scikit-learn-e80d33668730\n",
    "def display_topics(model, feature_names, no_top_words):\n",
    "    for topic_idx, topic in enumerate(model.components_):\n",
    "        print(\"\\nTopic {}\".format(topic_idx))\n",
    "        print(\" \".join([feature_names[i]\n",
    "                        for i in topic.argsort()[:-no_top_words - 1:-1]]))\n",
    "\n",
    "# LDA can only use raw term counts for LDA because it is a probabilistic graphical model\n",
    "tf_vectorizer = CountVectorizer(max_df = 0.95, \n",
    "                                min_df = 2, \n",
    "                                max_features = 1000, \n",
    "                                stop_words='english')\n",
    "tf = tf_vectorizer.fit_transform(train_df['request_text_edit_aware'].tolist())\n",
    "tf_feature_names = tf_vectorizer.get_feature_names()\n",
    "\n",
    "# Run LDA\n",
    "lda = LatentDirichletAllocation(n_components=10, \n",
    "                                max_iter=5, \n",
    "                                learning_method='online', \n",
    "                                learning_offset=50.,\n",
    "                                random_state=0).fit(tf)\n",
    "\n",
    "# Print the 5 most common topics with their count\n",
    "topics_vector = np.argmax(lda.transform(tf), axis=1)\n",
    "top_5 = Counter(topics_vector).most_common(5)\n",
    "print('Top five most common topics with counts: {}'.format(str(top_5)))\n",
    "\n",
    "no_top_words = 15\n",
    "display_topics(lda, tf_feature_names, no_top_words)"
   ]
  },
  {
   "cell_type": "markdown",
   "metadata": {},
   "source": [
    "The Top 5 topics can be put under the following categories\n",
    "- Topic 0: Money / Job\n",
    "- Topic 9: Money / Job\n",
    "- Topic 3: Verification\n",
    "- Topic 5: Pizza\n",
    "- Topic 2: General"
   ]
  },
  {
   "cell_type": "markdown",
   "metadata": {},
   "source": [
    "#### c) Word Visualization"
   ]
  },
  {
   "cell_type": "markdown",
   "metadata": {},
   "source": [
    "Through this, we want to visualize the common bigrams and compare them for successful and unsuccessful requests. We choose bigrams as unigrams alone makes little sense and trigrams are too rare to be useful. From these visuals we can start to get an idea of potential differentiatiors in terms of post content that might make a difference to whether a user gets pizza or not. "
   ]
  },
  {
   "cell_type": "code",
   "execution_count": null,
   "metadata": {},
   "outputs": [],
   "source": [
    "from wordcloud import WordCloud, STOPWORDS\n",
    "\n",
    "def word_join(string,joiner=' '):\n",
    "    return joiner.join(string.split())\n",
    "\n",
    "joined_words = np.vectorize(word_join)"
   ]
  },
  {
   "cell_type": "code",
   "execution_count": null,
   "metadata": {},
   "outputs": [],
   "source": [
    "# Create WordCloud for Successful Requests\n",
    "\n",
    "# Get text from variables where received pizza val was true\n",
    "successful_edit_text = train_df[train_df['requester_received_pizza'] == True]['request_text_edit_aware']\n",
    "\n",
    "CV = CountVectorizer(stop_words='english',ngram_range=(2,2))\n",
    "cv_fit = CV.fit_transform(successful_edit_text)\n",
    "\n",
    "vocab = joined_words(CV.get_feature_names())\n",
    "\n",
    "frequency = list(cv_fit.toarray().sum(axis=0))\n",
    "word_score = dict(zip(vocab,frequency))\n",
    "wc = WordCloud(max_words = 200,\n",
    "               stopwords = set(STOPWORDS),\n",
    "               height = 500,\n",
    "               width = 800).fit_words(word_score)\n",
    "\n",
    "plt.imshow(wc, interpolation='bilinear')\n",
    "\n",
    "sorted_word_score = sorted(list(zip(vocab,frequency)), key=lambda x: -x[1])\n",
    "got_pizza = pd.DataFrame(sorted_word_score[:20], columns = ['Word', 'Freq'])\n",
    "got_pizza.plot.bar(x = 'Word', y = 'Freq')"
   ]
  },
  {
   "cell_type": "code",
   "execution_count": null,
   "metadata": {},
   "outputs": [],
   "source": [
    "# Get text from variables where received pizza val was true\n",
    "unsuccessful_edit_text = train_df[train_df['requester_received_pizza'] == False]['request_text_edit_aware']\n",
    "\n",
    "CV2 = CountVectorizer(stop_words='english',ngram_range=(2,2))\n",
    "cv_fit2 = CV2.fit_transform(unsuccessful_edit_text)\n",
    "\n",
    "vocab2 = joined_words(CV2.get_feature_names())\n",
    "\n",
    "frequency2 = list(cv_fit2.toarray().sum(axis=0))\n",
    "word_score2 = dict(zip(vocab2,frequency2))\n",
    "wc2 = WordCloud(max_words = 200,\n",
    "                stopwords = set(STOPWORDS),\n",
    "                height = 500,\n",
    "                width = 800).fit_words(word_score2)\n",
    "\n",
    "plt.imshow(wc2, interpolation='bilinear')\n",
    "\n",
    "sorted_word_score2 = sorted(list(zip(vocab2,frequency2)), key=lambda x: -x[1])\n",
    "no_pizza = pd.DataFrame(sorted_word_score2[:20], columns = ['Word', 'Freq'])\n",
    "no_pizza.plot.bar(x = 'Word', y = 'Freq')"
   ]
  },
  {
   "cell_type": "markdown",
   "metadata": {},
   "source": [
    "There are some interesting differences such as amongst common phrases, what's interesting is how those who didn't get pizza mentioned \"love pizza\" and \"pay forward\" more often. Further, they also include images in the text"
   ]
  },
  {
   "cell_type": "markdown",
   "metadata": {},
   "source": [
    "#### d) From the above, look at unigrams now"
   ]
  },
  {
   "cell_type": "code",
   "execution_count": null,
   "metadata": {},
   "outputs": [],
   "source": [
    "import matplotlib as mpl\n",
    "\n",
    "granted_requests = train_df[train_df['requester_received_pizza'] == True]\n",
    "ungranted_requests = train_df[train_df['requester_received_pizza'] == False]\n",
    "\n",
    "stopwords = set(STOPWORDS)\n",
    "\n",
    "wc2 = WordCloud(max_words = 200,\n",
    "               height = 500,\n",
    "               width = 800).fit_words(word_score2)\n",
    "\n",
    "wordcloud = WordCloud(stopwords=stopwords,\n",
    "                      max_words=300,\n",
    "                      max_font_size=50, \n",
    "                      random_state=42).generate(str(granted_requests['request_text_edit_aware']))\n",
    "\n",
    "fig = plt.figure(1)\n",
    "plt.imshow(wordcloud, interpolation=\"bilinear\")\n",
    "plt.axis('off')\n",
    "plt.title(\"Word Cloud for Granted Requests\")\n",
    "plt.show()\n",
    "\n",
    "wordcloud = WordCloud(stopwords=stopwords,\n",
    "                      max_words=300,\n",
    "                      max_font_size=50, \n",
    "                      random_state=42).generate(str(ungranted_requests['request_text_edit_aware']))\n",
    "\n",
    "fig = plt.figure(1)\n",
    "plt.imshow(wordcloud, interpolation=\"bilinear\")\n",
    "plt.axis('off')\n",
    "plt.title(\"Word Cloud for Ungranted Requests\")\n",
    "plt.show()"
   ]
  },
  {
   "cell_type": "markdown",
   "metadata": {},
   "source": [
    "<a id=\"baseline\"></a>"
   ]
  },
  {
   "cell_type": "markdown",
   "metadata": {},
   "source": [
    "## 4. Baseline Model"
   ]
  },
  {
   "cell_type": "markdown",
   "metadata": {},
   "source": [
    "### 4.1 "
   ]
  },
  {
   "cell_type": "markdown",
   "metadata": {},
   "source": [
    "Zero R rule = apply highest class % to all  \n",
    "(No pizza received)"
   ]
  },
  {
   "cell_type": "code",
   "execution_count": 87,
   "metadata": {},
   "outputs": [
    {
     "name": "stdout",
     "output_type": "stream",
     "text": [
      "              precision    recall  f1-score   support\n",
      "\n",
      "           0       0.75      1.00      0.86      1218\n",
      "           1       0.00      0.00      0.00       398\n",
      "\n",
      "   micro avg       0.75      0.75      0.75      1616\n",
      "   macro avg       0.38      0.50      0.43      1616\n",
      "weighted avg       0.57      0.75      0.65      1616\n",
      "\n"
     ]
    },
    {
     "name": "stderr",
     "output_type": "stream",
     "text": [
      "C:\\Users\\manat\\Anaconda3\\lib\\site-packages\\sklearn\\metrics\\classification.py:1143: UndefinedMetricWarning: Precision and F-score are ill-defined and being set to 0.0 in labels with no predicted samples.\n",
      "  'precision', 'predicted', average, warn_for)\n",
      "C:\\Users\\manat\\Anaconda3\\lib\\site-packages\\sklearn\\metrics\\classification.py:1143: UndefinedMetricWarning: Precision and F-score are ill-defined and being set to 0.0 in labels with no predicted samples.\n",
      "  'precision', 'predicted', average, warn_for)\n",
      "C:\\Users\\manat\\Anaconda3\\lib\\site-packages\\sklearn\\metrics\\classification.py:1143: UndefinedMetricWarning: Precision and F-score are ill-defined and being set to 0.0 in labels with no predicted samples.\n",
      "  'precision', 'predicted', average, warn_for)\n"
     ]
    }
   ],
   "source": [
    "# dev_labels vs. vector of 1/0 based on guessing all 1/0 (majority %)\n",
    "zeror = np.repeat(0, len(dev_labels))\n",
    "print(classification_report(dev_labels, zeror))"
   ]
  },
  {
   "cell_type": "markdown",
   "metadata": {},
   "source": [
    "### 4.2 NaiveBayes Baseline"
   ]
  },
  {
   "cell_type": "code",
   "execution_count": 88,
   "metadata": {},
   "outputs": [],
   "source": [
    "def roc_plot(dev_labels, pred_dev_prob):\n",
    "    fpr, tpr, threshold = metrics.roc_curve(dev_labels, pred_dev_prob)\n",
    "    roc_auc = metrics.auc(fpr, tpr)\n",
    "\n",
    "    plt.title('Receiver Operating Characteristic')\n",
    "    plt.plot(fpr, tpr, 'b', label = 'AUC = %0.2f' % roc_auc)\n",
    "    plt.legend(loc = 'lower right')\n",
    "    plt.plot([0, 1], [0, 1],'r--')\n",
    "    plt.xlim([0, 1])\n",
    "    plt.ylim([0, 1])\n",
    "    plt.ylabel('True Positive Rate')\n",
    "    plt.xlabel('False Positive Rate')\n",
    "    plt.show()"
   ]
  },
  {
   "cell_type": "code",
   "execution_count": 91,
   "metadata": {},
   "outputs": [
    {
     "name": "stderr",
     "output_type": "stream",
     "text": [
      "C:\\Users\\manat\\Anaconda3\\lib\\site-packages\\sklearn\\model_selection\\_split.py:2053: FutureWarning: You should specify a value for 'cv' instead of relying on the default value. The default value will change from 3 to 5 in version 0.22.\n",
      "  warnings.warn(CV_WARNING, FutureWarning)\n"
     ]
    },
    {
     "name": "stdout",
     "output_type": "stream",
     "text": [
      "{'alpha': 5.156363636363636}\n",
      "AUC score = 0.5668995634989398 \n",
      "\n",
      "              precision    recall  f1-score   support\n",
      "\n",
      "           0       0.75      1.00      0.86      1218\n",
      "           1       0.00      0.00      0.00       398\n",
      "\n",
      "   micro avg       0.75      0.75      0.75      1616\n",
      "   macro avg       0.38      0.50      0.43      1616\n",
      "weighted avg       0.57      0.75      0.65      1616\n",
      "\n",
      "Confusion Matrix \n",
      "[[1216    2]\n",
      " [ 398    0]]\n"
     ]
    },
    {
     "data": {
      "image/png": "[encoded data removed]",
      "text/plain": [
       "<Figure size 432x288 with 1 Axes>"
      ]
     },
     "metadata": {
      "needs_background": "light"
     },
     "output_type": "display_data"
    }
   ],
   "source": [
    "# Use standard CountVectorizer to transform the training data and dev data \n",
    "vectorizer = CountVectorizer() \n",
    "train_data = vectorizer.fit_transform(train_df['request_text_edit_aware'])\n",
    "dev_data = vectorizer.transform(dev_df['request_text_edit_aware'])\n",
    "\n",
    "###TODO - append meta variables to vectorized text dataframe \n",
    "\n",
    "# Create MultinomialNB\n",
    "mnb = MultinomialNB()\n",
    "    \n",
    "# test the best value for alpha\n",
    "parameters = {'alpha': np.linspace(0.01, 10, 100)}\n",
    "\n",
    "# create GridSearchCV to find the best alpha\n",
    "clf = GridSearchCV(mnb, parameters)\n",
    "\n",
    "# train the MultinomialNB\n",
    "clf.fit(train_data, train_labels)\n",
    "\n",
    "pred_dev_prob = clf.predict_proba(dev_data)[:,0]\n",
    "pred_dev_labels = clf.predict(dev_data)\n",
    "\n",
    "print(clf.best_params_)\n",
    "print(\"AUC score = {} \\n\".format(roc_auc_score(dev_labels, pred_dev_prob, average='micro')))\n",
    "print(classification_report(dev_labels, pred_dev_labels))\n",
    "\n",
    "### HEADERS\n",
    "print(\"Confusion Matrix \\n{}\".format(confusion_matrix(dev_labels, pred_dev_labels)))\n",
    "\n",
    "roc_plot(dev_labels, pred_dev_prob)"
   ]
  },
  {
   "cell_type": "markdown",
   "metadata": {},
   "source": [
    "With an auc of .57, the baseline model does slightly better than randomly guessing (auc of .5). \n",
    "The confusion matrix shows that the model fails to predict any fulfilled requests."
   ]
  },
  {
   "cell_type": "markdown",
   "metadata": {},
   "source": [
    "### 4.3 Logistic Regression Baseline"
   ]
  },
  {
   "cell_type": "code",
   "execution_count": null,
   "metadata": {},
   "outputs": [],
   "source": [
    "# Jay"
   ]
  },
  {
   "cell_type": "markdown",
   "metadata": {},
   "source": [
    "### 4.4 XGBoost Baseline"
   ]
  },
  {
   "cell_type": "code",
   "execution_count": 113,
   "metadata": {},
   "outputs": [
    {
     "name": "stderr",
     "output_type": "stream",
     "text": [
      "C:\\Users\\manat\\Anaconda3\\lib\\site-packages\\xgboost\\core.py:587: FutureWarning: Series.base is deprecated and will be removed in a future version\n",
      "  if getattr(data, 'base', None) is not None and \\\n",
      "C:\\Users\\manat\\Anaconda3\\lib\\site-packages\\xgboost\\core.py:588: FutureWarning: Series.base is deprecated and will be removed in a future version\n",
      "  data.base is not None and isinstance(data, np.ndarray) \\\n"
     ]
    }
   ],
   "source": [
    "# Tim - NOTE: can still use numeric/continuous variable\n",
    "\n",
    "list_vars_keep = ['requester_upvotes_plus_downvotes_at_request', \n",
    "                  'requester_upvotes_minus_downvotes_at_request',\n",
    "                  'requester_number_of_comments_in_raop_at_request',\n",
    "                  'unix_timestamp_of_request',\n",
    "                  'requester_days_since_first_post_on_raop_at_request',\n",
    "                  'requester_account_age_in_days_at_request']\n",
    "train_df_lim = train_df[list_vars_keep]\n",
    "dev_df_lim = dev_df[list_vars_keep]\n",
    "\n",
    "dtrain = xgb.DMatrix(train_df_lim, label = train_labels)\n",
    "ddev = xgb.DMatrix(dev_df_lim)\n",
    "\n",
    "# specify parameters via map\n",
    "param = {'max_depth':2, 'eta':1, 'silent':1, 'objective':'binary:logistic' }\n",
    "num_round = 2\n",
    "\n",
    "bst = xgb.train(param, dtrain, num_round)\n",
    "\n",
    "# make prediction\n",
    "preds = bst.predict(ddev)"
   ]
  },
  {
   "cell_type": "code",
   "execution_count": 114,
   "metadata": {},
   "outputs": [
    {
     "data": {
      "text/plain": [
       "<matplotlib.axes._subplots.AxesSubplot at 0x21d391524e0>"
      ]
     },
     "execution_count": 114,
     "metadata": {},
     "output_type": "execute_result"
    },
    {
     "data": {
      "image/png": "[encoded data removed]",
      "text/plain": [
       "<Figure size 432x288 with 1 Axes>"
      ]
     },
     "metadata": {
      "needs_background": "light"
     },
     "output_type": "display_data"
    }
   ],
   "source": [
    "xgb.plot_importance(bst)"
   ]
  },
  {
   "cell_type": "code",
   "execution_count": 104,
   "metadata": {},
   "outputs": [],
   "source": [
    "# xgb.plot_tree(bst, num_trees=2)\n",
    "### REQUIRES graphviz - http://www.graphviz.org/"
   ]
  },
  {
   "cell_type": "code",
   "execution_count": 116,
   "metadata": {},
   "outputs": [
    {
     "name": "stdout",
     "output_type": "stream",
     "text": [
      "              precision    recall  f1-score   support\n",
      "\n",
      "           0       0.75      1.00      0.86      1218\n",
      "           1       0.00      0.00      0.00       398\n",
      "\n",
      "   micro avg       0.75      0.75      0.75      1616\n",
      "   macro avg       0.38      0.50      0.43      1616\n",
      "weighted avg       0.57      0.75      0.65      1616\n",
      "\n"
     ]
    },
    {
     "name": "stderr",
     "output_type": "stream",
     "text": [
      "C:\\Users\\manat\\Anaconda3\\lib\\site-packages\\sklearn\\metrics\\classification.py:1143: UndefinedMetricWarning: Precision and F-score are ill-defined and being set to 0.0 in labels with no predicted samples.\n",
      "  'precision', 'predicted', average, warn_for)\n",
      "C:\\Users\\manat\\Anaconda3\\lib\\site-packages\\sklearn\\metrics\\classification.py:1143: UndefinedMetricWarning: Precision and F-score are ill-defined and being set to 0.0 in labels with no predicted samples.\n",
      "  'precision', 'predicted', average, warn_for)\n",
      "C:\\Users\\manat\\Anaconda3\\lib\\site-packages\\sklearn\\metrics\\classification.py:1143: UndefinedMetricWarning: Precision and F-score are ill-defined and being set to 0.0 in labels with no predicted samples.\n",
      "  'precision', 'predicted', average, warn_for)\n"
     ]
    }
   ],
   "source": [
    "print(classification_report(dev_labels, preds.astype(int)))"
   ]
  },
  {
   "cell_type": "markdown",
   "metadata": {},
   "source": [
    "<a id=\"featengg\"></a>"
   ]
  },
  {
   "cell_type": "markdown",
   "metadata": {},
   "source": [
    "## 5. Feature Engineering"
   ]
  },
  {
   "cell_type": "markdown",
   "metadata": {},
   "source": [
    "### 5.1 Time\n",
    "\n",
    "A. 'During Initial Period': \n",
    "\n",
    "The first two graphs indicate that during the initial period of the group, there was a burst of requests and an unsustained high rate of fulfillment. This doesn't align with the general trend. It might be interesting to analyze the differences between the Initial_period (Until July 2011) vs Not_Initial Period. "
   ]
  },
  {
   "cell_type": "code",
   "execution_count": null,
   "metadata": {},
   "outputs": [],
   "source": [
    "cutoff_date = datetime.date(2011,7,31) #Cutting off on July 31\n",
    "cutoff_time = time.mktime(cutoff_date.timetuple())\n",
    "train_df['during_initial_period'] = np.where(train_df['unix_timestamp_of_request_utc'] < cutoff_time, 1, 0)"
   ]
  },
  {
   "cell_type": "markdown",
   "metadata": {},
   "source": [
    "B. 'Day_of Week' & 'Hour_of_Day': \n",
    "\n",
    "The last two graphs indicate that fulfillment rates oscillate between 21% & 30% based on day of the week and between 6 and 38% based on time of the day. Hence both of those can be considered as distinguishing features for our models."
   ]
  },
  {
   "cell_type": "code",
   "execution_count": null,
   "metadata": {},
   "outputs": [],
   "source": [
    "train_df['day_of_week'] = pd.to_datetime(train_df[\"unix_timestamp_of_request\"], unit = 's').dt.dayofweek\n",
    "train_df['hour_of_day'] = pd.to_datetime(train_df[\"unix_timestamp_of_request\"], unit = 's').dt.hour\n",
    "###TODO binarize/input as factor or custom features for buckets of hours/days"
   ]
  },
  {
   "cell_type": "markdown",
   "metadata": {},
   "source": [
    "### 5.2 Requester Profile Variables"
   ]
  },
  {
   "cell_type": "markdown",
   "metadata": {},
   "source": [
    "#### Age of Account"
   ]
  },
  {
   "cell_type": "code",
   "execution_count": null,
   "metadata": {},
   "outputs": [],
   "source": [
    "###TODO - change all variable names to longer versions and point to train_df (and mimic for dev_df)"
   ]
  },
  {
   "cell_type": "code",
   "execution_count": null,
   "metadata": {},
   "outputs": [],
   "source": [
    "# Age of account - whether it appears to be a new/throwaway account or a longtime veteran\n",
    "sns.distplot(train_df_profile_clean.loc[train_df_profile_clean['account_age_days']!=0, 'account_age_days']);"
   ]
  },
  {
   "cell_type": "code",
   "execution_count": null,
   "metadata": {},
   "outputs": [],
   "source": [
    "# Create new variable for: first (days = 0), new (days <= median for nonzero), old (days > median for nonzero)\n",
    "median_account_age_nonzero = train_df_profile_clean[train_df_profile_clean['account_age_days']!=0]['account_age_days'].median()\n",
    "account_conditions = [\n",
    "    (train_df_profile_clean.loc[:,'account_age_days']==0),\n",
    "    (train_df_profile_clean.loc[:,'account_age_days']<=median_account_age_nonzero),\n",
    "    (train_df_profile_clean.loc[:,'account_age_days']>median_account_age_nonzero)]\n",
    "account_choices = ['throwaway', 'new', 'old']\n",
    "train_df_profile_clean['account_age_cat'] = np.select(account_conditions, account_choices, default='na')\n",
    "train_df_profile_clean['old'] = np.where(train_df_profile_clean['account_age_cat']=='old', 1, 0)\n",
    "train_df_profile_clean['new'] = np.where(train_df_profile_clean['account_age_cat']=='new', 1, 0)\n",
    "train_df_profile_clean['throwaway'] = np.where(train_df_profile_clean['account_age_cat']=='throwaway', 1, 0)\n",
    "\n",
    "sns.countplot(x = 'account_age_cat', data = train_df_profile_clean)"
   ]
  },
  {
   "cell_type": "markdown",
   "metadata": {},
   "source": [
    "#### First/Repeat Request"
   ]
  },
  {
   "cell_type": "code",
   "execution_count": null,
   "metadata": {},
   "outputs": [],
   "source": [
    "# Number and frequency of requests - if the requester has made requests before\n",
    "train_df_profile_clean['first_repeat_requester'] = np.where(train_df_profile_clean['days_since_first_post_raop']==0, 'first', 'repeat')\n",
    "train_df_profile_clean['first_requester'] = np.where(train_df_profile_clean['first_repeat_requester']=='first', 1, 0)\n",
    "train_df_profile_clean['repeat_requester'] = np.where(train_df_profile_clean['first_repeat_requester']=='repeat', 1, 0)\n",
    "\n",
    "sns.countplot(x='first_repeat_requester', data = train_df_profile_clean)"
   ]
  },
  {
   "cell_type": "markdown",
   "metadata": {},
   "source": [
    "#### Commenter"
   ]
  },
  {
   "cell_type": "code",
   "execution_count": null,
   "metadata": {},
   "outputs": [],
   "source": [
    "train_df_profile_clean['comments_raop_cat'] = np.where(train_df_profile_clean['number_comments_raop']==0, 'never', 'has')\n",
    "train_df_profile_clean['never_comments'] = np.where(train_df_profile_clean['comments_raop_cat']=='never', 1, 0)\n",
    "train_df_profile_clean['has_commented'] = np.where(train_df_profile_clean['comments_raop_cat']=='has', 1, 0)\n",
    "\n",
    "sns.countplot(x = 'comments_raop_cat', data = train_df_profile_clean)"
   ]
  },
  {
   "cell_type": "markdown",
   "metadata": {},
   "source": [
    "#### Up/Down Votes"
   ]
  },
  {
   "cell_type": "code",
   "execution_count": null,
   "metadata": {},
   "outputs": [],
   "source": [
    "sns.distplot(train_df_profile_clean.loc[:,'up_plus_down']);"
   ]
  },
  {
   "cell_type": "code",
   "execution_count": null,
   "metadata": {},
   "outputs": [],
   "source": [
    "# Still a huge 0 spike for up/down\n",
    "train_df_profile_clean['up_down_cat'] = np.where(train_df_profile_clean['up_plus_down']==0, 'ignored', 'popular')\n",
    "train_df_profile_clean['popular'] = np.where(train_df_profile_clean['up_plus_down']!=0, 1, 0)\n",
    "train_df_profile_clean['ignored'] = np.where(train_df_profile_clean['up_plus_down']==0, 1, 0)\n",
    "sns.countplot(x = 'up_down_cat', data = train_df_profile_clean)"
   ]
  },
  {
   "cell_type": "code",
   "execution_count": null,
   "metadata": {},
   "outputs": [],
   "source": [
    "train_df_profile_clean.head()"
   ]
  },
  {
   "cell_type": "markdown",
   "metadata": {},
   "source": [
    "### 5.3 Textual Variables"
   ]
  },
  {
   "cell_type": "markdown",
   "metadata": {},
   "source": [
    "#### Text Analysis Plan (AW + SB)\n",
    "* Sentiment analysis\n",
    "* Check whether the post matches with the Sub-Reddits the original poster subscribed\n",
    "* Number of capitalized words\n",
    "\n",
    "Methods:  \n",
    "**TO DO** - add content on each of these methods\n",
    "- **Bag-of-words** = base methodology  \n",
    "- Topic modelling = potential  \n",
    "- Stemming/Pre-Processing = potential (see dimensionality reduction)  "
   ]
  },
  {
   "cell_type": "markdown",
   "metadata": {},
   "source": [
    "### Sartaj Notes\n",
    "\n",
    "Regarding Feature Engineering, things that could be done\n",
    "- Remove special characters from request text edit aware and make it lower case\n",
    "- Remove special characters from title text and make it lower case\n",
    "- Concatenate request and title text\n",
    "- Remove punctuation, non-alphanumeric characters and extra spaces from the combined text\n",
    "- Perform stemming (Trying to shorten a word with simple regex rules) using PorterStemmer / Lemmatization (Trying to find the root word with linguistics rules (with the use of regexes)) using WordNetLemmatizer\n",
    "- Image_in_text: check presence of certain words such as 'imgur.com|.jpg|.png|.jpeg' which indicates presence of images used to provide evidence of need\n",
    "- Spelling Errors Ratio: ratio of spelling errors in text and title to the length of total text plus title (use the pyenchant library)"
   ]
  },
  {
   "cell_type": "markdown",
   "metadata": {},
   "source": [
    "#### From the stanford paper, the part that talks about narratives"
   ]
  },
  {
   "cell_type": "code",
   "execution_count": null,
   "metadata": {},
   "outputs": [],
   "source": [
    "money = [\"money\", \"now\", \"broke\", \"week\", \"until\", \"time\",\n",
    "          \"last\", \"day\", \"when\", \"today\", \"tonight\", \"paid\", \"next\",\n",
    "          \"first\", \"night\", \"after\", \"tomorrow\", \"month\", \"while\",\n",
    "          \"account\", \"before\", \"long\", \"friday\", \"rent\", \"buy\",\n",
    "          \"bank\", \"still\", \"bills\", \"ago\", \"cash\", \"due\",\n",
    "          \"soon\", \"past\", \"never\", \"paycheck\", \"check\", \"spent\",\n",
    "          \"years\", \"poor\", \"till\", \"yesterday\", \"morning\", \"dollars\",\n",
    "          \"financial\", \"hour\", \"bill\", \"evening\", \"credit\",\n",
    "          \"budget\", \"loan\", \"bucks\", \"deposit\", \"dollar\", \"current\",\n",
    "          \"payed\"]\n",
    "job =[\"work\", \"job\", \"paycheck\", \"unemployment\", \"interview\",\n",
    "          \"fired\", \"employment\", \"hired\", \"hire\"]\n",
    "student = [\"college\", \"student\", \"school\", \"roommate\",\n",
    "          \"studying\", \"university\", \"finals\", \"semester\",\n",
    "          \"class\", \"study\", \"project\", \"dorm\", \"tuition\"]\n",
    "family =[\"family\", \"mom\", \"wife\", \"parents\", \"mother\", \"husband\",\n",
    "           \"dad\", \"son\", \"daughter\", \"father\", \"parent\",\n",
    "           \"mum\"]\n",
    "craving = [\"friend\", \"girlfriend\", \"craving\", \"birthday\",\n",
    "          \"boyfriend\", \"celebrate\", \"party\", \"game\", \"games\",\n",
    "          \"movie\", \"date\", \"drunk\", \"beer\", \"celebrating\", \"invited\",\n",
    "          \"drinks\", \"crave\", \"wasted\", \"invite\"]\n",
    "\n",
    "narratives = [money, job, student, family, craving]"
   ]
  },
  {
   "cell_type": "code",
   "execution_count": null,
   "metadata": {},
   "outputs": [],
   "source": [
    "# Work in Progress\n",
    "# import string\n",
    "\n",
    "# train_df['post_and_title'] = train_df['request_text_edit_aware'] + ' '+ train_df['request_title']\n",
    "# dev_df['post_and_title'] = dev_df['request_text_edit_aware'] + ' ' + dev_df['request_title']\n",
    "\n",
    "# def pre_process(s):\n",
    "#     s = re.sub(\"[^\\w']|_\", \" \", s) \n",
    "    \n",
    "#     # Strip punctuation before looking\n",
    "#     s = s.translate(str.maketrans(' ',' ',string.punctuation))\n",
    "    \n",
    "#     # Remove extra spaces\n",
    "#     s = re.sub(' +',' ', s)\n",
    "    \n",
    "#     s = s.lower()\n",
    "    \n",
    "#     return s\n",
    "\n",
    "# def find_narr(narr,s):\n",
    "#     count=0\n",
    "#     for word in narr:\n",
    "#         count += s.split().count(word)\n",
    "#     return count/len(s.split())\n",
    "\n",
    "# def construct_narrative_features(data): \n",
    "#     data['post_and_title'] = data['request_text_edit_aware'] + ' ' + data['request_title']\n",
    "#     clean_text = data['post_and_title'].apply(lambda s: pre_process(s))\n",
    "    \n",
    "#     features = pd.DataFrame()\n",
    "\n",
    "#     for n in narratives:\n",
    "#         features[n[0]] = clean_text.apply(lambda s: find_narr(n,s))\n",
    "#     return features\n",
    "\n",
    "# train_narrative_features = construct_narrative_features(train_df)\n",
    "# dev_narrative_features = construct_narrative_features(dev_df)"
   ]
  },
  {
   "cell_type": "markdown",
   "metadata": {},
   "source": [
    "##### Count the number of words capitalized"
   ]
  },
  {
   "cell_type": "code",
   "execution_count": null,
   "metadata": {},
   "outputs": [],
   "source": [
    "## Extract the target variable and two text fields\n",
    "i = 1\n",
    "\n",
    "Y_train_np = train_df['requester_received_pizza'].values\n",
    "print(Y_train_np[i])\n",
    "\n",
    "request_text_edit_aware_train_np = train_df['request_text_edit_aware'].values\n",
    "print(request_text_edit_aware_train_np[i])\n",
    "\n",
    "request_title_train_np = train_df['request_title'].values\n",
    "print(request_title_train_np[i])\n",
    "\n",
    "requester_subreddits_at_request_train_np = train_df['requester_subreddits_at_request'].values\n",
    "print(requester_subreddits_at_request_train_np[i])"
   ]
  },
  {
   "cell_type": "code",
   "execution_count": null,
   "metadata": {},
   "outputs": [],
   "source": [
    "stateAbbrList = [\"AL\",\"AK\",\"AZ\",\"AR\",\"CA\",\"CO\",\"CT\",\"DE\",\"FL\",\"GA\",\"HI\",\"ID\",\"IL\",\"IN\",\"IA\",\"KS\",\"KY\",\"LA\",\"ME\",\"MD\",\"MA\",\"MI\",\"MN\",\"MS\",\"MO\",\"MT\",\"NE\",\"NV\",\"NH\",\"NJ\",\"NM\",\"NY\",\"NC\",\"ND\",\"OH\",\"OK\",\"OR\",\"PA\",\"RI\",\"SC\",\"SD\",\"TN\",\"TX\",\"UT\",\"VT\",\"VA\",\"WA\",\"WV\",\"WI\",\"WY\"]\n",
    "otherExlcusionList = ['US', 'PS', 'EDIT', 'PM']\n",
    "capCountList = []\n",
    "capCategoryList = []\n",
    "for i in range(len(request_text_edit_aware_train_np)):\n",
    "    msg = request_text_edit_aware_train_np[i]\n",
    "    ## Replace special characters with space\n",
    "    msg = re.sub('[^1-9a-zA-Z\\s]+', '', msg)\n",
    "    capCount = 0\n",
    "    for word in msg.split():\n",
    "        ## Remove if a word has only 1 character (i.e., 'I')\n",
    "        if len(word) > 1:\n",
    "            if word.isupper() and word not in stateAbbrList and word not in otherExlcusionList:\n",
    "                print(word)\n",
    "                capCount += 1\n",
    "        \n",
    "    capCountList.append(capCount)\n",
    "#print(capCountList)"
   ]
  },
  {
   "cell_type": "code",
   "execution_count": null,
   "metadata": {},
   "outputs": [],
   "source": [
    "## Avaerge target in training by the number of capitalized words\n",
    "Y_byCapCount = pd.DataFrame(Y_train_np).groupby(capCountList).mean()\n",
    "## Total number of observations by the number of capitalized words\n",
    "n_byCapCount = pd.DataFrame(Y_train_np).groupby(capCountList).count()\n",
    "print(Y_byCapCount)\n",
    "\n",
    "fig = plt.figure()\n",
    "## Specify the dimensions [left, bottom, width, height]\n",
    "ax1 = fig.add_axes([0.1, 0.4, 0.8, 0.4],\n",
    "                   xticklabels=[], ylim=(0, 1))\n",
    "ax2 = fig.add_axes([0.1, 0.1, 0.8, 0.25],\n",
    "                   ylim=(0, 2000))\n",
    "\n",
    "ax1.plot(np.unique(capCountList), Y_byCapCount)\n",
    "ax1.set_ylabel('% of Pizzas Given')\n",
    "ax2.hist(capCountList, 120)\n",
    "ax2.set_ylabel('# of Requesters')\n",
    "ax2.set_xlabel('# of Capitalized Words')"
   ]
  },
  {
   "cell_type": "code",
   "execution_count": null,
   "metadata": {},
   "outputs": [],
   "source": [
    "## Bin into 2 categories: Capitalization (Yes, No)\n",
    "capCategoryList = np.where(np.asarray(capCountList)>=1, 1, 0)\n",
    "\n",
    "## Avaerge target in training by the number of capCategory\n",
    "Y_byCapCategory = pd.DataFrame(Y_train_np).groupby(capCategoryList).mean()\n",
    "## Total number of observations by the number of capCategory\n",
    "n_byCapCategory = pd.DataFrame(Y_train_np).groupby(capCategoryList).count()\n",
    "print(Y_byCapCategory)\n",
    "print(n_byCapCategory)"
   ]
  },
  {
   "cell_type": "markdown",
   "metadata": {},
   "source": [
    "##### Sentiment Analysis"
   ]
  },
  {
   "cell_type": "code",
   "execution_count": null,
   "metadata": {},
   "outputs": [],
   "source": [
    "## Reference: https://www.nltk.org/api/nltk.sentiment.html (CITATION NEEDED)\n",
    "## Reference: http://www.nltk.org/howto/sentiment.html\n",
    "sid = SentimentIntensityAnalyzer()\n",
    "neuList = []\n",
    "posList = []\n",
    "negList = []\n",
    "compoundSenList = []\n",
    "\n",
    "for i in range(len(request_text_edit_aware_train_np)):\n",
    "    msg = request_text_edit_aware_train_np[i] \n",
    "    ss = sid.polarity_scores(msg)\n",
    "    neuList.append(ss['neu'])\n",
    "    posList.append(ss['pos'])\n",
    "    negList.append(ss['neg'])\n",
    "    compoundSenList.append(ss['compound'])"
   ]
  },
  {
   "cell_type": "code",
   "execution_count": null,
   "metadata": {},
   "outputs": [],
   "source": [
    "np.histogram(np.asarray(neuList), bins=[0, 0.25, 0.5, 0.75, 1])\n",
    "fig, ax = plt.subplots(2, 2, figsize=(10, 10))\n",
    "#n, bins, patches = ax[1,1].hist(np.asarray(neuList), 10, density=1)\n",
    "ax[0,0].hist(np.asarray(neuList))\n",
    "ax[0,0].set_title('Histogram of Neutral Score')\n",
    "ax[0,1].hist(np.asarray(posList))\n",
    "ax[0,1].set_title('Histogram of Positive Score')\n",
    "ax[1,0].hist(np.asarray(negList))\n",
    "ax[1,0].set_title('Histogram of Negative Score')\n",
    "ax[1,1].hist(np.asarray(compoundSenList))\n",
    "ax[1,1].set_title('Histogram of Compound Score')"
   ]
  },
  {
   "cell_type": "code",
   "execution_count": null,
   "metadata": {},
   "outputs": [],
   "source": [
    "class LogisticReg:\n",
    "    \"\"\"\n",
    "    Wrapper Class for Logistic Regression which has the usual sklearn instance \n",
    "    in an attribute self.model, and pvalues, z scores and estimated \n",
    "    errors for each coefficient in \n",
    "    \n",
    "    self.z_scores\n",
    "    self.p_values\n",
    "    self.sigma_estimates\n",
    "    \n",
    "    as well as the negative hessian of the log Likelihood (Fisher information)\n",
    "    \n",
    "    self.F_ij\n",
    "    \"\"\"\n",
    "    \n",
    "    def __init__(self,*args,**kwargs):#,**kwargs):\n",
    "        self.model = linear_model.LogisticRegression(*args,**kwargs)#,**args)\n",
    "\n",
    "    def fit(self,X,y):\n",
    "        self.model.fit(X,y)\n",
    "        #### Get p-values for the fitted model ####\n",
    "        denom = (2.0*(1.0+np.cosh(self.model.decision_function(X))))\n",
    "        denom = np.tile(denom,(X.shape[1],1)).T\n",
    "        F_ij = np.dot((X/denom).T,X) ## Fisher Information Matrix\n",
    "        Cramer_Rao = np.linalg.inv(F_ij) ## Inverse Information Matrix\n",
    "        sigma_estimates = np.sqrt(np.diagonal(Cramer_Rao))\n",
    "        z_scores = self.model.coef_[0]/sigma_estimates # z-score for eaach model coefficient\n",
    "        p_values = [stat.norm.sf(abs(x))*2 for x in z_scores] ### two tailed test for p-values\n",
    "        \n",
    "        self.coef_ = self.model.coef_\n",
    "        self.z_scores = z_scores\n",
    "        self.p_values = p_values\n",
    "        self.sigma_estimates = sigma_estimates\n",
    "        self.F_ij = F_ij"
   ]
  },
  {
   "cell_type": "code",
   "execution_count": null,
   "metadata": {},
   "outputs": [],
   "source": [
    "sentimentX = np.c_[np.asarray(neuList), np.asarray(posList), np.asarray(negList), np.asarray(compoundSenList)]\n",
    "#from sklearn.linear_model import LogisticRegression\n",
    "lgModel = LogisticReg()\n",
    "lgModel.fit(sentimentX, Y_train_np)\n",
    "print(lgModel.coef_)\n",
    "print(lgModel.p_values)\n",
    "\n",
    "## Note only neutral score and compound score are significant."
   ]
  },
  {
   "cell_type": "markdown",
   "metadata": {},
   "source": [
    "## 6. Models"
   ]
  },
  {
   "cell_type": "markdown",
   "metadata": {},
   "source": [
    "DEV DATA Only  \n",
    "\n",
    "Models we plan to test:\n",
    "- Logistic Regression\n",
    "    * **TO DO** add one sentence on algorithm methodology and potential applicability\n",
    "- Naive Bayes  \n",
    "- Decision Trees / Random Forest"
   ]
  },
  {
   "cell_type": "markdown",
   "metadata": {},
   "source": [
    "Based on preliminary results, we will focus on the most promising model and begin to refine and tune that method.  \n",
    "\n",
    "There are two sets of hyperparameters which we will be able to adjust in pursuit of a more accurate model:  \n",
    "- **Model Parameters** _(will be dependent on which is our final model)_\n",
    "    - Logistic Regression\n",
    "        * `solver` - Will seek to find the optimal solver given the data size and feature dentiy (newton-cg, lbfgs, liblinear, sag, or saga)\n",
    "        * `penalty` - Select norm for penalization (l1 or l2)\n",
    "        * `C` - Adjust to reduce overfitting\n",
    "        * `tol` & `max_iter` - Deal with convergence issues\n",
    "    - Naive Bayes (BernoulliNB)\n",
    "        * `alpha` - Adjust smoothing for issues with sparse data\n",
    "    - Decision Trees / Random Forest\n",
    "        * `max_depth` & `n_estimators` - Achieve parsimonious level of detail in the forest\n",
    "        * `criterion` - Adjust method for determining the quality of each split (gini or entropy)\n",
    "- **Feature Engineering Parameters**\n",
    "    - Dimensionality reduction\n",
    "        * `analyzer` - Find optimal unit of observation for feature creation\n",
    "        * `vocabulary` - Create a more limited vocabulary using logistic regression with l1 penalty to identify and remove features with low or 0 weight\n",
    "        * `min_df` - Limit reliance on rare words without losing predictive power  \n",
    "        * `stop_words` - Remove overly-common words\n",
    "    - Error Review\n",
    "        * `pre-processor` - Create custom pre-processing algorithm to remove/edit idiosynchratic at-issue words/phrases found in review of false negatives/positives"
   ]
  },
  {
   "cell_type": "markdown",
   "metadata": {},
   "source": [
    "## 7. Results"
   ]
  },
  {
   "cell_type": "markdown",
   "metadata": {},
   "source": [
    "Once an optimal model has been build with training data and tested with dev data, we will run the test data through the model and output a predicted class (boolean, pizza received or not).  \n",
    "This test result will be _submitted via csv to Kaggle_, which will return an accuracy score.  \n",
    "This accuracy score will be compared against the benchmark ZeroR score to evaluate the predictive power of the model."
   ]
  }
 ],
 "metadata": {
  "kernelspec": {
   "display_name": "Python 3",
   "language": "python",
   "name": "python3"
  },
  "language_info": {
   "codemirror_mode": {
    "name": "ipython",
    "version": 3
   },
   "file_extension": ".py",
   "mimetype": "text/x-python",
   "name": "python",
   "nbconvert_exporter": "python",
   "pygments_lexer": "ipython3",
   "version": "3.6.6"
  }
 },
 "nbformat": 4,
 "nbformat_minor": 2
}
